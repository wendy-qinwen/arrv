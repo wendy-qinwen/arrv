{
 "cells": [
  {
   "cell_type": "code",
   "execution_count": 39,
   "source": [
    "import pandas as pd\n",
    "import numpy as np\n",
    "from scipy.special import gamma\n",
    "from hurst import compute_Hc, random_walk\n",
    "from statsmodels.tsa.stattools import acf\n",
    "from math import log\n",
    "from statsmodels.tsa.ar_model import AutoReg\n",
    "def prepare_data(path):\n",
    "    df = pd.read_csv(path)\n",
    "    df.columns = ['Date_vix']\n",
    "    df['Date'] = df['Date_vix'].apply(lambda x: x[0:8])\n",
    "    df['vix'] = df['Date_vix'].apply(lambda x: x[9:])\n",
    "    df['vix'] = df['vix'].apply(lambda x: str.replace(x, ' ', ''))\n",
    "    df['vix'] = df['vix'].apply(lambda x: 0.0 if x == '.' else x)\n",
    "    df['vix'] = df['vix'].astype(float)\n",
    "    df['log_vix'] = np.log(df['vix'])\n",
    "    df['Date'] = pd.to_datetime(df['Date'])\n",
    "    return df\n",
    "\n",
    "\n",
    "def obtain_train(df_ori):\n",
    "    #\n",
    "\n",
    "    # value_first = df_ori['residual'].values[0]\n",
    "    # df_ori['residual'] = df_ori['residual'] - value_first\n",
    "    # df_ori['residual_mean'] =  df_ori['residual'].mean()\n",
    "    # df_ori['lr'] = 2 * np.linspace(0, 1, df_ori.shape[0]) * df_ori['residual'].mean()\n",
    "    df_ori['x'] = df_ori['residual'] # - df_ori['lr']\n",
    "    # df_ori['x'] = df_ori['residual']\n",
    "    df_ori['y'] = df_ori['x'].diff()\n",
    "    # print(\"value_first in obtain_train is \", value_first)\n",
    "    \n",
    "    return df_ori,0 # value_first\n",
    "\n",
    "\n",
    "def obtain_train_ar(df, n, date):\n",
    "    df_ori = df[df['Date'] >= date][0:n].reset_index(drop=True)\n",
    "    return df_ori\n",
    "\n",
    "def obtain_gamma(value):\n",
    "    value_ = np.power(gamma((value + 1) / 2), 2) / gamma(value + 0.5)\n",
    "    return value_ / np.sqrt(np.pi)\n",
    "\n",
    "\n",
    "def obtain_lambda(target):\n",
    "    left = 0\n",
    "    right = 3\n",
    "    mid = (left + right) / 2\n",
    "    while abs(obtain_gamma(mid) - target) > 10 ** -8:\n",
    "        if obtain_gamma(mid) > target:\n",
    "            left = mid\n",
    "            mid = (left + right) / 2\n",
    "        elif obtain_gamma(mid) < target:\n",
    "            right = mid\n",
    "            mid = (left + right) / 2\n",
    "        else:\n",
    "            return mid\n",
    "    return mid\n",
    "\n",
    "def obtain_residual_by_ar(df_):\n",
    "    acf_params_ = acf(df_['log_vix'],nlags=50)\n",
    "    model_ = AutoReg(df_['log_vix'], lags=3).fit()\n",
    "    predict = model_.predict()\n",
    "    print(\"predict is \", predict)\n",
    "    df_['ar_predict'] = predict.values\n",
    "\n",
    "    df_['residual'] = df_['log_vix']-df_['ar_predict']\n",
    "\n",
    "    forecast  =model_.forecast(1)\n",
    "    return model_.params,df_, forecast\n",
    "\n",
    "\n",
    "def objective_function(x, a,b):\n",
    "    err = []\n",
    "    for i in range(len(a)-1):\n",
    "        err.append(np.power(a[i+1]-x[0]*a[i]-x[1]*b[i+1]-x[2],2)) # 可以加入对过去的多个依赖\n",
    "    # print(err)\n",
    "    return np.sum(err) #np.sqrt(np.sum(err))\n",
    "\n",
    "from scipy.optimize import minimize, LinearConstraint"
   ],
   "outputs": [],
   "metadata": {}
  },
  {
   "cell_type": "code",
   "execution_count": 40,
   "source": [
    "# def obtain_true(df,n,date):\n",
    "#     df_ori = df[df['Date'] >= date][0:n].reset_index(drop=True)\n",
    "#     value_first = df_ori['log_vix'].values[0]\n",
    "#     df_ori['log_vix'] = df_ori['log_vix'] - value_first\n",
    "#\n",
    "#     return df_ori,value_first\n",
    "\n",
    "def obtain_true_ar(df,n,date):\n",
    "    df_ori = df[df['Date'] >= date][0:n].reset_index(drop=True)\n",
    "    return df_ori"
   ],
   "outputs": [],
   "metadata": {}
  },
  {
   "cell_type": "code",
   "execution_count": 41,
   "source": [
    "# Loss function definition\n",
    "def hmse(y_true,y_pred):\n",
    "    ratio = y_pred/y_true\n",
    "    return np.mean(np.power((ratio[abs(ratio)<200]-1),2))\n",
    "\n",
    "def hmae(y_true,y_pred):\n",
    "    ratio = y_pred/y_true\n",
    "    return np.mean(abs(ratio[abs(ratio)<200]-1))\n",
    "\n",
    "def mse(y_true,y_pred):\n",
    "    return np.mean(np.power(np.abs(y_true-y_pred),2))\n",
    "\n",
    "def mae(y_true,y_pred):\n",
    "    return np.mean(np.abs(y_true-y_pred))"
   ],
   "outputs": [],
   "metadata": {}
  },
  {
   "cell_type": "code",
   "execution_count": 42,
   "source": [
    "def calculate_aic(n, mse, num_params):\n",
    "    \"\"\"\n",
    "    compute aic\n",
    "    :param n:\n",
    "    :param mse:\n",
    "    :param num_params:\n",
    "    :return:\n",
    "    \"\"\"\n",
    "    aic = n * log(mse) + 2 * num_params\n",
    "    return aic\n",
    "\n",
    "\n",
    "def calculate_bic(n, mse, num_params):\n",
    "    \"\"\"\n",
    "    compute bic\n",
    "    :param n:\n",
    "    :param mse:\n",
    "    :param num_params:\n",
    "    :return:\n",
    "    \"\"\"\n",
    "    bic = n * log(mse) + num_params * log(n)\n",
    "    return bic\n",
    "\n"
   ],
   "outputs": [],
   "metadata": {}
  },
  {
   "cell_type": "code",
   "execution_count": 43,
   "source": [
    "def obtain_v(data,H):\n",
    "    n = data.shape[0]\n",
    "    S = np.zeros([n+2,n+2])\n",
    "\n",
    "    for i in range(1,n+2):\n",
    "        for j in range(1,n+2):\n",
    "            S[i][j] = (np.power(i,2*H)+ np.power(j,2*H) -np.power(np.power(j-i,2),H))/(2*(n+1)**(2*H))\n",
    "    S = S[1:,1:]\n",
    "    A = S[0:n,0:n]\n",
    "    A_ = np.linalg.inv(A)\n",
    "    B_T = S[-1,0:n]\n",
    "    print(\"A shape is \", A.shape)\n",
    "    print(\"B_T shape is \", B_T.shape)\n",
    "    print(\"data shape is \", data.shape)\n",
    "    print(\"data['u'].values[-1] = \", data['u'].values[-1],np.dot(B_T.reshape(1,-1),A_))\n",
    "    print(\"debug\"*5,np.dot(np.dot(B_T.reshape(1,-1),A_),data['u'].values.reshape(-1,1))[0])\n",
    "    v = np.dot(np.dot(B_T.reshape(1,-1),A_),data['u'].values.reshape(-1,1))[0]-data['u'].values[-1]\n",
    "    u_hat = np.dot(np.dot(B_T.reshape(1,-1),A_),data['u'].values.reshape(-1,1))[0]\n",
    "    return v,u_hat"
   ],
   "outputs": [],
   "metadata": {}
  },
  {
   "cell_type": "code",
   "execution_count": 44,
   "source": [
    "def obtain_params(data):\n",
    "    log_vix = data['log_vix'].values\n",
    "    z_i = data['z_i'].values\n",
    "    res = minimize(\n",
    "    objective_function,\n",
    "    x0=0.5 * np.random.random(3),\n",
    "    args=(log_vix,z_i),\n",
    ")\n",
    "    return res"
   ],
   "outputs": [],
   "metadata": {}
  },
  {
   "cell_type": "code",
   "execution_count": 45,
   "source": [
    "# def predict_self(data,v,x,lambda_):\n",
    "#     z = np.sign(v)*np.power(abs(v),lambda_)\n",
    "#     result = data['y'].values[-1]*x[0]+z*x[1]+x[2]    #####\n",
    "#     return result\n",
    "\n",
    "def compute_z(v,lambda_):\n",
    "    return np.sign(v)*np.power(abs(v),lambda_)\n"
   ],
   "outputs": [],
   "metadata": {}
  },
  {
   "cell_type": "code",
   "execution_count": 1,
   "source": [
    "def main(date, n = 500):\n",
    "    df = prepare_data('./data/VIXdata.txt')\n",
    "    df_ori = df[df['Date'] >= date][0:n].reset_index(drop=True)\n",
    "    params_ar,df_ori, forecast = obtain_residual_by_ar(df_ori)\n",
    "    forecast = forecast.values\n",
    "    print(\"forecast is \", forecast)\n",
    "    print(\"df_ori after obtain_residual_by_ar is \", df_ori.head(30))\n",
    "    df_ori = df_ori.dropna()\n",
    "    df_ori,value_first = obtain_train(df_ori)\n",
    "    df_ = df_ori.dropna()\n",
    "    print(\"debug here df_\", df_.head())\n",
    "\n",
    "    df_['abs_y'] = np.abs(df_['y'])\n",
    "    df_['squared'] = df_['y']*df_['y']\n",
    "    R1n = df_['abs_y'].mean()\n",
    "    R2n = df_['squared'].mean()\n",
    "    lambda_ = obtain_lambda(R1n*R1n/R2n)\n",
    "    print(\"lambda_ =\", lambda_)\n",
    "    df_['y_tilde'] = np.sign(df_['y'])*np.power(df_['abs_y'],1/lambda_) #+1/lambda_\n",
    "    df_['u'] = np.cumsum(df_['y_tilde'])\n",
    "    df_['z_i'] = df_[['y','y_tilde']].apply(lambda x:np.sign(x[0])*np.power(abs(x[1]),lambda_),axis=1)\n",
    "    series = df_['u'].values  # create a random walk from random changes\n",
    "    print(\"series is \", series)\n",
    "    # Evaluate Hurst equation\n",
    "    H, c, data = compute_Hc(series, kind='random_walk', simplified=True)\n",
    "    v,u_hat = obtain_v(df_,H)\n",
    "    print(\"v = \", v)\n",
    "    u_tmp = np.sign(df_['u'].values[-1])* np.power(np.abs(df_['u'].values[-1]),lambda_)\n",
    "\n",
    "    z = compute_z(v,lambda_)\n",
    "    # res = obtain_params(df_)\n",
    "    # x = res.x\n",
    "    print(\"z = \",z)\n",
    "    v_i = df_['log_vix'].values[-1] #volatility past value\n",
    "    ar_i = df_['ar_predict'].values[-1] #ar approximte last value\n",
    "    result = forecast -(z)+0*(v_i-(ar_i)) # predict_self(df_,v,x,lambda_)   ########\n",
    "\n",
    "\n",
    "    df_true = df[df['Date'] >= date][0:n+1].reset_index(drop=True)\n",
    "    date_ = df_true['Date'].values[-1]\n",
    "    true_value = df_true['log_vix'].values[-1]\n",
    "    print(\"value_first is in main:\",value_first)\n",
    "    # print(\"2*df_['residual_mean'].values[-1] is in main:\",2*df_['residual_mean'].values[-1])\n",
    "    # log_vix_t_1 = df_true['log_vix'].values[-2]+value_first_\n",
    "    # print(log_vix_t_1)\n",
    "    # print(x,log_vix_t_1,result[0])\n",
    "    # return [forecast, result+2*df_['residual_mean'].values[-1]+value_first, date_,true_value,H,lambda_],df_,value_first\n",
    "    return [forecast[0], result[0], date_,true_value,H,lambda_,value_first,z[0],u_tmp,u_hat[0]],df_,value_first"
   ],
   "outputs": [],
   "metadata": {}
  },
  {
   "cell_type": "markdown",
   "source": [
    "# 1. Compute the fGn $Z_t$\n",
    "\n"
   ],
   "metadata": {}
  },
  {
   "cell_type": "code",
   "execution_count": 2,
   "source": [
    "df = prepare_data('./data/VIXdata.txt')\n",
    "n = 150\n",
    "date_list = [str.replace(str(x),'-','')[:8] for x in  df[df['Date']>='2012-02-01']['Date'].values[0:] ]\n",
    "result = []\n",
    "for date in date_list:\n",
    "    result_,_,a_ = main(date,n=n)\n",
    "    result.append(result_)\n",
    "result"
   ],
   "outputs": [
    {
     "output_type": "error",
     "ename": "NameError",
     "evalue": "name 'prepare_data' is not defined",
     "traceback": [
      "\u001b[0;31m---------------------------------------------------------------------------\u001b[0m",
      "\u001b[0;31mNameError\u001b[0m                                 Traceback (most recent call last)",
      "Cell \u001b[0;32mIn [2], line 1\u001b[0m\n\u001b[0;32m----> 1\u001b[0m df \u001b[38;5;241m=\u001b[39m \u001b[43mprepare_data\u001b[49m(\u001b[38;5;124m'\u001b[39m\u001b[38;5;124m./data/VIXdata.txt\u001b[39m\u001b[38;5;124m'\u001b[39m)\n\u001b[1;32m      2\u001b[0m n \u001b[38;5;241m=\u001b[39m \u001b[38;5;241m150\u001b[39m\n\u001b[1;32m      3\u001b[0m date_list \u001b[38;5;241m=\u001b[39m [\u001b[38;5;28mstr\u001b[39m\u001b[38;5;241m.\u001b[39mreplace(\u001b[38;5;28mstr\u001b[39m(x),\u001b[38;5;124m'\u001b[39m\u001b[38;5;124m-\u001b[39m\u001b[38;5;124m'\u001b[39m,\u001b[38;5;124m'\u001b[39m\u001b[38;5;124m'\u001b[39m)[:\u001b[38;5;241m8\u001b[39m] \u001b[38;5;28;01mfor\u001b[39;00m x \u001b[38;5;129;01min\u001b[39;00m  df[df[\u001b[38;5;124m'\u001b[39m\u001b[38;5;124mDate\u001b[39m\u001b[38;5;124m'\u001b[39m]\u001b[38;5;241m>\u001b[39m\u001b[38;5;241m=\u001b[39m\u001b[38;5;124m'\u001b[39m\u001b[38;5;124m2012-02-01\u001b[39m\u001b[38;5;124m'\u001b[39m][\u001b[38;5;124m'\u001b[39m\u001b[38;5;124mDate\u001b[39m\u001b[38;5;124m'\u001b[39m]\u001b[38;5;241m.\u001b[39mvalues[\u001b[38;5;241m0\u001b[39m:] ]\n",
      "\u001b[0;31mNameError\u001b[0m: name 'prepare_data' is not defined"
     ]
    }
   ],
   "metadata": {}
  },
  {
   "cell_type": "code",
   "execution_count": 121,
   "source": [
    "from sklearn.metrics import mean_absolute_error,r2_score"
   ],
   "outputs": [],
   "metadata": {}
  },
  {
   "cell_type": "code",
   "execution_count": 122,
   "source": [
    "df_result = pd.DataFrame(result,columns=['ar','zhu','date','true','H','lambda_','value_first','z','u_tmp','u_hat'])\n",
    "df_result"
   ],
   "outputs": [
    {
     "output_type": "execute_result",
     "data": {
      "text/html": [
       "<div>\n",
       "<style scoped>\n",
       "    .dataframe tbody tr th:only-of-type {\n",
       "        vertical-align: middle;\n",
       "    }\n",
       "\n",
       "    .dataframe tbody tr th {\n",
       "        vertical-align: top;\n",
       "    }\n",
       "\n",
       "    .dataframe thead th {\n",
       "        text-align: right;\n",
       "    }\n",
       "</style>\n",
       "<table border=\"1\" class=\"dataframe\">\n",
       "  <thead>\n",
       "    <tr style=\"text-align: right;\">\n",
       "      <th></th>\n",
       "      <th>ar</th>\n",
       "      <th>zhu</th>\n",
       "      <th>date</th>\n",
       "      <th>true</th>\n",
       "      <th>H</th>\n",
       "      <th>lambda_</th>\n",
       "      <th>value_first</th>\n",
       "      <th>z</th>\n",
       "      <th>u_tmp</th>\n",
       "      <th>u_hat</th>\n",
       "    </tr>\n",
       "  </thead>\n",
       "  <tbody>\n",
       "    <tr>\n",
       "      <th>0</th>\n",
       "      <td>2.497440</td>\n",
       "      <td>2.565566</td>\n",
       "      <td>2017-09-06</td>\n",
       "      <td>2.453588</td>\n",
       "      <td>0.281101</td>\n",
       "      <td>1.605137</td>\n",
       "      <td>0</td>\n",
       "      <td>-0.023768</td>\n",
       "      <td>0.095480</td>\n",
       "      <td>0.134137</td>\n",
       "    </tr>\n",
       "    <tr>\n",
       "      <th>1</th>\n",
       "      <td>2.435477</td>\n",
       "      <td>2.397657</td>\n",
       "      <td>2017-09-07</td>\n",
       "      <td>2.446685</td>\n",
       "      <td>0.288216</td>\n",
       "      <td>1.594914</td>\n",
       "      <td>0</td>\n",
       "      <td>0.014595</td>\n",
       "      <td>0.000619</td>\n",
       "      <td>0.080362</td>\n",
       "    </tr>\n",
       "    <tr>\n",
       "      <th>2</th>\n",
       "      <td>2.446413</td>\n",
       "      <td>2.452105</td>\n",
       "      <td>2017-09-08</td>\n",
       "      <td>2.494857</td>\n",
       "      <td>0.284759</td>\n",
       "      <td>1.589249</td>\n",
       "      <td>0</td>\n",
       "      <td>-0.001161</td>\n",
       "      <td>0.012125</td>\n",
       "      <td>0.048033</td>\n",
       "    </tr>\n",
       "    <tr>\n",
       "      <th>3</th>\n",
       "      <td>2.483645</td>\n",
       "      <td>2.503488</td>\n",
       "      <td>2017-09-11</td>\n",
       "      <td>2.373044</td>\n",
       "      <td>0.292509</td>\n",
       "      <td>1.595665</td>\n",
       "      <td>0</td>\n",
       "      <td>-0.006285</td>\n",
       "      <td>0.203395</td>\n",
       "      <td>0.326881</td>\n",
       "    </tr>\n",
       "    <tr>\n",
       "      <th>4</th>\n",
       "      <td>2.379148</td>\n",
       "      <td>2.343438</td>\n",
       "      <td>2017-09-12</td>\n",
       "      <td>2.358965</td>\n",
       "      <td>0.313433</td>\n",
       "      <td>1.582539</td>\n",
       "      <td>0</td>\n",
       "      <td>0.013831</td>\n",
       "      <td>-0.017947</td>\n",
       "      <td>-0.011965</td>\n",
       "    </tr>\n",
       "    <tr>\n",
       "      <th>...</th>\n",
       "      <td>...</td>\n",
       "      <td>...</td>\n",
       "      <td>...</td>\n",
       "      <td>...</td>\n",
       "      <td>...</td>\n",
       "      <td>...</td>\n",
       "      <td>...</td>\n",
       "      <td>...</td>\n",
       "      <td>...</td>\n",
       "      <td>...</td>\n",
       "    </tr>\n",
       "    <tr>\n",
       "      <th>195</th>\n",
       "      <td>2.498255</td>\n",
       "      <td>2.499523</td>\n",
       "      <td>2018-06-15</td>\n",
       "      <td>2.483239</td>\n",
       "      <td>0.467614</td>\n",
       "      <td>1.608658</td>\n",
       "      <td>0</td>\n",
       "      <td>0.000441</td>\n",
       "      <td>0.588604</td>\n",
       "      <td>0.727512</td>\n",
       "    </tr>\n",
       "    <tr>\n",
       "      <th>196</th>\n",
       "      <td>2.501502</td>\n",
       "      <td>2.504682</td>\n",
       "      <td>2018-06-18</td>\n",
       "      <td>2.510412</td>\n",
       "      <td>0.466509</td>\n",
       "      <td>1.599270</td>\n",
       "      <td>0</td>\n",
       "      <td>-0.000251</td>\n",
       "      <td>0.886766</td>\n",
       "      <td>0.922006</td>\n",
       "    </tr>\n",
       "    <tr>\n",
       "      <th>197</th>\n",
       "      <td>2.520961</td>\n",
       "      <td>2.525755</td>\n",
       "      <td>2018-06-19</td>\n",
       "      <td>2.591516</td>\n",
       "      <td>0.439822</td>\n",
       "      <td>1.612429</td>\n",
       "      <td>0</td>\n",
       "      <td>-0.000835</td>\n",
       "      <td>0.681505</td>\n",
       "      <td>0.776021</td>\n",
       "    </tr>\n",
       "    <tr>\n",
       "      <th>198</th>\n",
       "      <td>2.592980</td>\n",
       "      <td>2.596165</td>\n",
       "      <td>2018-06-20</td>\n",
       "      <td>2.548664</td>\n",
       "      <td>0.482598</td>\n",
       "      <td>1.624097</td>\n",
       "      <td>0</td>\n",
       "      <td>-0.000253</td>\n",
       "      <td>1.704344</td>\n",
       "      <td>1.382502</td>\n",
       "    </tr>\n",
       "    <tr>\n",
       "      <th>199</th>\n",
       "      <td>2.544614</td>\n",
       "      <td>2.546604</td>\n",
       "      <td>2018-06-21</td>\n",
       "      <td>2.683758</td>\n",
       "      <td>0.475386</td>\n",
       "      <td>1.618401</td>\n",
       "      <td>0</td>\n",
       "      <td>0.000180</td>\n",
       "      <td>0.802711</td>\n",
       "      <td>0.877881</td>\n",
       "    </tr>\n",
       "  </tbody>\n",
       "</table>\n",
       "<p>200 rows × 10 columns</p>\n",
       "</div>"
      ],
      "text/plain": [
       "           ar       zhu       date      true         H   lambda_  value_first  \\\n",
       "0    2.497440  2.565566 2017-09-06  2.453588  0.281101  1.605137            0   \n",
       "1    2.435477  2.397657 2017-09-07  2.446685  0.288216  1.594914            0   \n",
       "2    2.446413  2.452105 2017-09-08  2.494857  0.284759  1.589249            0   \n",
       "3    2.483645  2.503488 2017-09-11  2.373044  0.292509  1.595665            0   \n",
       "4    2.379148  2.343438 2017-09-12  2.358965  0.313433  1.582539            0   \n",
       "..        ...       ...        ...       ...       ...       ...          ...   \n",
       "195  2.498255  2.499523 2018-06-15  2.483239  0.467614  1.608658            0   \n",
       "196  2.501502  2.504682 2018-06-18  2.510412  0.466509  1.599270            0   \n",
       "197  2.520961  2.525755 2018-06-19  2.591516  0.439822  1.612429            0   \n",
       "198  2.592980  2.596165 2018-06-20  2.548664  0.482598  1.624097            0   \n",
       "199  2.544614  2.546604 2018-06-21  2.683758  0.475386  1.618401            0   \n",
       "\n",
       "            z     u_tmp     u_hat  \n",
       "0   -0.023768  0.095480  0.134137  \n",
       "1    0.014595  0.000619  0.080362  \n",
       "2   -0.001161  0.012125  0.048033  \n",
       "3   -0.006285  0.203395  0.326881  \n",
       "4    0.013831 -0.017947 -0.011965  \n",
       "..        ...       ...       ...  \n",
       "195  0.000441  0.588604  0.727512  \n",
       "196 -0.000251  0.886766  0.922006  \n",
       "197 -0.000835  0.681505  0.776021  \n",
       "198 -0.000253  1.704344  1.382502  \n",
       "199  0.000180  0.802711  0.877881  \n",
       "\n",
       "[200 rows x 10 columns]"
      ]
     },
     "metadata": {},
     "execution_count": 122
    }
   ],
   "metadata": {}
  },
  {
   "cell_type": "markdown",
   "source": [
    "# 2. Forecasts result\n",
    "## 2.1 Plot the forecasts"
   ],
   "metadata": {}
  },
  {
   "cell_type": "code",
   "execution_count": 123,
   "source": [
    "df_result[(df_result.index<100)&(df_result.index>1)][['true','ar','zhu']].plot()\n",
    "df_result[(df_result.index<200)&(df_result.index>1)][['H']].plot()"
   ],
   "outputs": [
    {
     "output_type": "execute_result",
     "data": {
      "text/plain": [
       "<AxesSubplot:>"
      ]
     },
     "metadata": {},
     "execution_count": 123
    },
    {
     "output_type": "display_data",
     "data": {
      "image/png": "[encoded data removed]",
      "text/plain": [
       "<Figure size 640x480 with 1 Axes>"
      ]
     },
     "metadata": {}
    },
    {
     "output_type": "display_data",
     "data": {
      "image/png": "[encoded data removed]",
      "text/plain": [
       "<Figure size 640x480 with 1 Axes>"
      ]
     },
     "metadata": {}
    }
   ],
   "metadata": {}
  },
  {
   "cell_type": "markdown",
   "source": [
    "## 2.2 Loss functions"
   ],
   "metadata": {}
  },
  {
   "cell_type": "code",
   "execution_count": 124,
   "source": [
    "sst=1 # start point\n",
    "eed=200 # end point"
   ],
   "outputs": [],
   "metadata": {}
  },
  {
   "cell_type": "code",
   "execution_count": 125,
   "source": [
    "# HMSE, HMAE    Mine\n",
    "hmse(df_result['true'].values[sst:eed],df_result['zhu'].values[sst:eed]),hmae(df_result['true'].values[sst:eed],df_result['zhu'].values[sst:eed])"
   ],
   "outputs": [
    {
     "output_type": "execute_result",
     "data": {
      "text/plain": [
       "(0.0010775979831621416, 0.02253693434064636)"
      ]
     },
     "metadata": {},
     "execution_count": 125
    }
   ],
   "metadata": {}
  },
  {
   "cell_type": "code",
   "execution_count": 126,
   "source": [
    "# HMSE, HMAE      AR\n",
    "hmse(df_result['true'].values[sst:eed],df_result['ar'].values[sst:eed]),hmae(df_result['true'].values[sst:eed],df_result['ar'].values[sst:eed])"
   ],
   "outputs": [
    {
     "output_type": "execute_result",
     "data": {
      "text/plain": [
       "(0.0010834095540463743, 0.022057000239701995)"
      ]
     },
     "metadata": {},
     "execution_count": 126
    }
   ],
   "metadata": {}
  },
  {
   "cell_type": "code",
   "execution_count": 127,
   "source": [
    "# MSE, MAE        Mine\n",
    "mse(df_result['true'].values[sst:eed],df_result['zhu'].values[sst:eed]), mae(df_result['true'].values[sst:eed],df_result['zhu'].values[sst:eed])"
   ],
   "outputs": [
    {
     "output_type": "execute_result",
     "data": {
      "text/plain": [
       "(0.009530907655861297, 0.061029398530849786)"
      ]
     },
     "metadata": {},
     "execution_count": 127
    }
   ],
   "metadata": {}
  },
  {
   "cell_type": "code",
   "execution_count": 128,
   "source": [
    "# MSE, MAE         AR\n",
    "mse(df_result['true'].values[sst:eed],df_result['ar'].values[sst:eed]), mae(df_result['true'].values[sst:eed],df_result['ar'].values[sst:eed])"
   ],
   "outputs": [
    {
     "output_type": "execute_result",
     "data": {
      "text/plain": [
       "(0.009869640167685092, 0.05996901783362187)"
      ]
     },
     "metadata": {},
     "execution_count": 128
    }
   ],
   "metadata": {}
  },
  {
   "cell_type": "code",
   "execution_count": 129,
   "source": [
    "# R^2               Mine\n",
    "r2 = r2_score(df_result['true'].values[sst:eed],df_result['zhu'].values[sst:eed])\n",
    "r2 "
   ],
   "outputs": [
    {
     "output_type": "execute_result",
     "data": {
      "text/plain": [
       "0.8969036094728993"
      ]
     },
     "metadata": {},
     "execution_count": 129
    }
   ],
   "metadata": {}
  },
  {
   "cell_type": "code",
   "execution_count": 130,
   "source": [
    "# R^2                AR\n",
    "r2 = r2_score(df_result['true'].values[sst:eed],df_result['ar'].values[sst:eed])\n",
    "r2 "
   ],
   "outputs": [
    {
     "output_type": "execute_result",
     "data": {
      "text/plain": [
       "0.893239519904081"
      ]
     },
     "metadata": {},
     "execution_count": 130
    }
   ],
   "metadata": {}
  },
  {
   "cell_type": "code",
   "execution_count": 79,
   "source": [
    "from sklearn.linear_model import LinearRegression"
   ],
   "outputs": [],
   "metadata": {}
  },
  {
   "cell_type": "code",
   "execution_count": 115,
   "source": [
    "df_result['H'].mean()"
   ],
   "outputs": [
    {
     "output_type": "execute_result",
     "data": {
      "text/plain": [
       "0.3716134468560098"
      ]
     },
     "metadata": {},
     "execution_count": 115
    }
   ],
   "metadata": {}
  },
  {
   "cell_type": "markdown",
   "source": [
    "# Linear Reg of $\\theta$"
   ],
   "metadata": {}
  },
  {
   "cell_type": "code",
   "execution_count": 88,
   "source": [
    "reg_model = LinearRegression()\n",
    "\n",
    "reg_model.fit(df_result[['z']].values,df_result['true']-df_result['ar'])"
   ],
   "outputs": [
    {
     "output_type": "execute_result",
     "data": {
      "text/html": [
       "<style>#sk-container-id-5 {color: black;background-color: white;}#sk-container-id-5 pre{padding: 0;}#sk-container-id-5 div.sk-toggleable {background-color: white;}#sk-container-id-5 label.sk-toggleable__label {cursor: pointer;display: block;width: 100%;margin-bottom: 0;padding: 0.3em;box-sizing: border-box;text-align: center;}#sk-container-id-5 label.sk-toggleable__label-arrow:before {content: \"▸\";float: left;margin-right: 0.25em;color: #696969;}#sk-container-id-5 label.sk-toggleable__label-arrow:hover:before {color: black;}#sk-container-id-5 div.sk-estimator:hover label.sk-toggleable__label-arrow:before {color: black;}#sk-container-id-5 div.sk-toggleable__content {max-height: 0;max-width: 0;overflow: hidden;text-align: left;background-color: #f0f8ff;}#sk-container-id-5 div.sk-toggleable__content pre {margin: 0.2em;color: black;border-radius: 0.25em;background-color: #f0f8ff;}#sk-container-id-5 input.sk-toggleable__control:checked~div.sk-toggleable__content {max-height: 200px;max-width: 100%;overflow: auto;}#sk-container-id-5 input.sk-toggleable__control:checked~label.sk-toggleable__label-arrow:before {content: \"▾\";}#sk-container-id-5 div.sk-estimator input.sk-toggleable__control:checked~label.sk-toggleable__label {background-color: #d4ebff;}#sk-container-id-5 div.sk-label input.sk-toggleable__control:checked~label.sk-toggleable__label {background-color: #d4ebff;}#sk-container-id-5 input.sk-hidden--visually {border: 0;clip: rect(1px 1px 1px 1px);clip: rect(1px, 1px, 1px, 1px);height: 1px;margin: -1px;overflow: hidden;padding: 0;position: absolute;width: 1px;}#sk-container-id-5 div.sk-estimator {font-family: monospace;background-color: #f0f8ff;border: 1px dotted black;border-radius: 0.25em;box-sizing: border-box;margin-bottom: 0.5em;}#sk-container-id-5 div.sk-estimator:hover {background-color: #d4ebff;}#sk-container-id-5 div.sk-parallel-item::after {content: \"\";width: 100%;border-bottom: 1px solid gray;flex-grow: 1;}#sk-container-id-5 div.sk-label:hover label.sk-toggleable__label {background-color: #d4ebff;}#sk-container-id-5 div.sk-serial::before {content: \"\";position: absolute;border-left: 1px solid gray;box-sizing: border-box;top: 0;bottom: 0;left: 50%;z-index: 0;}#sk-container-id-5 div.sk-serial {display: flex;flex-direction: column;align-items: center;background-color: white;padding-right: 0.2em;padding-left: 0.2em;position: relative;}#sk-container-id-5 div.sk-item {position: relative;z-index: 1;}#sk-container-id-5 div.sk-parallel {display: flex;align-items: stretch;justify-content: center;background-color: white;position: relative;}#sk-container-id-5 div.sk-item::before, #sk-container-id-5 div.sk-parallel-item::before {content: \"\";position: absolute;border-left: 1px solid gray;box-sizing: border-box;top: 0;bottom: 0;left: 50%;z-index: -1;}#sk-container-id-5 div.sk-parallel-item {display: flex;flex-direction: column;z-index: 1;position: relative;background-color: white;}#sk-container-id-5 div.sk-parallel-item:first-child::after {align-self: flex-end;width: 50%;}#sk-container-id-5 div.sk-parallel-item:last-child::after {align-self: flex-start;width: 50%;}#sk-container-id-5 div.sk-parallel-item:only-child::after {width: 0;}#sk-container-id-5 div.sk-dashed-wrapped {border: 1px dashed gray;margin: 0 0.4em 0.5em 0.4em;box-sizing: border-box;padding-bottom: 0.4em;background-color: white;}#sk-container-id-5 div.sk-label label {font-family: monospace;font-weight: bold;display: inline-block;line-height: 1.2em;}#sk-container-id-5 div.sk-label-container {text-align: center;}#sk-container-id-5 div.sk-container {/* jupyter's `normalize.less` sets `[hidden] { display: none; }` but bootstrap.min.css set `[hidden] { display: none !important; }` so we also need the `!important` here to be able to override the default hidden behavior on the sphinx rendered scikit-learn.org. See: https://github.com/scikit-learn/scikit-learn/issues/21755 */display: inline-block !important;position: relative;}#sk-container-id-5 div.sk-text-repr-fallback {display: none;}</style><div id=\"sk-container-id-5\" class=\"sk-top-container\"><div class=\"sk-text-repr-fallback\"><pre>LinearRegression()</pre><b>In a Jupyter environment, please rerun this cell to show the HTML representation or trust the notebook. <br />On GitHub, the HTML representation is unable to render, please try loading this page with nbviewer.org.</b></div><div class=\"sk-container\" hidden><div class=\"sk-item\"><div class=\"sk-estimator sk-toggleable\"><input class=\"sk-toggleable__control sk-hidden--visually\" id=\"sk-estimator-id-5\" type=\"checkbox\" checked><label for=\"sk-estimator-id-5\" class=\"sk-toggleable__label sk-toggleable__label-arrow\">LinearRegression</label><div class=\"sk-toggleable__content\"><pre>LinearRegression()</pre></div></div></div></div></div>"
      ],
      "text/plain": [
       "LinearRegression()"
      ]
     },
     "metadata": {},
     "execution_count": 88
    }
   ],
   "metadata": {}
  },
  {
   "cell_type": "code",
   "execution_count": 89,
   "source": [
    "reg_model.coef_"
   ],
   "outputs": [
    {
     "output_type": "execute_result",
     "data": {
      "text/plain": [
       "array([-2.76169388])"
      ]
     },
     "metadata": {},
     "execution_count": 89
    }
   ],
   "metadata": {}
  },
  {
   "cell_type": "code",
   "execution_count": 118,
   "source": [
    "reg_model.intercept_"
   ],
   "outputs": [
    {
     "output_type": "execute_result",
     "data": {
      "text/plain": [
       "-0.002486691453829662"
      ]
     },
     "metadata": {},
     "execution_count": 118
    }
   ],
   "metadata": {}
  },
  {
   "cell_type": "code",
   "execution_count": null,
   "source": [],
   "outputs": [],
   "metadata": {}
  }
 ],
 "metadata": {
  "orig_nbformat": 4,
  "language_info": {
   "name": "python",
   "version": "3.8.13",
   "mimetype": "text/x-python",
   "codemirror_mode": {
    "name": "ipython",
    "version": 3
   },
   "pygments_lexer": "ipython3",
   "nbconvert_exporter": "python",
   "file_extension": ".py"
  },
  "kernelspec": {
   "name": "python3",
   "display_name": "Python 3.8.13 64-bit ('papers': conda)"
  },
  "interpreter": {
   "hash": "9b8c0d8d1b97cd533e92d724fe6be06f31125e28ceff8928ec9db598bb3cbc6f"
  }
 },
 "nbformat": 4,
 "nbformat_minor": 2
}