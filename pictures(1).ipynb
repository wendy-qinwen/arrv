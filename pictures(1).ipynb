{
 "cells": [
  {
   "cell_type": "code",
   "execution_count": 1,
   "metadata": {},
   "outputs": [],
   "source": [
    "import pandas as pd\n",
    "import numpy as np \n",
    "import matplotlib.pyplot as plt "
   ]
  },
  {
   "cell_type": "code",
   "execution_count": 2,
   "metadata": {},
   "outputs": [
    {
     "data": {
      "text/html": [
       "<div>\n",
       "<style scoped>\n",
       "    .dataframe tbody tr th:only-of-type {\n",
       "        vertical-align: middle;\n",
       "    }\n",
       "\n",
       "    .dataframe tbody tr th {\n",
       "        vertical-align: top;\n",
       "    }\n",
       "\n",
       "    .dataframe thead th {\n",
       "        text-align: right;\n",
       "    }\n",
       "</style>\n",
       "<table border=\"1\" class=\"dataframe\">\n",
       "  <thead>\n",
       "    <tr style=\"text-align: right;\">\n",
       "      <th></th>\n",
       "      <th>Date             vix</th>\n",
       "    </tr>\n",
       "  </thead>\n",
       "  <tbody>\n",
       "    <tr>\n",
       "      <th>0</th>\n",
       "      <td>20010102           29.99</td>\n",
       "    </tr>\n",
       "    <tr>\n",
       "      <th>1</th>\n",
       "      <td>20010102           29.99</td>\n",
       "    </tr>\n",
       "    <tr>\n",
       "      <th>2</th>\n",
       "      <td>20010103           26.60</td>\n",
       "    </tr>\n",
       "    <tr>\n",
       "      <th>3</th>\n",
       "      <td>20010103           26.60</td>\n",
       "    </tr>\n",
       "    <tr>\n",
       "      <th>4</th>\n",
       "      <td>20010104           26.97</td>\n",
       "    </tr>\n",
       "  </tbody>\n",
       "</table>\n",
       "</div>"
      ],
      "text/plain": [
       "       Date             vix\n",
       "0  20010102           29.99\n",
       "1  20010102           29.99\n",
       "2  20010103           26.60\n",
       "3  20010103           26.60\n",
       "4  20010104           26.97"
      ]
     },
     "execution_count": 2,
     "metadata": {},
     "output_type": "execute_result"
    }
   ],
   "source": [
    "df = pd.read_csv('./data/VIXdata.txt',sep='\\t')\n",
    "df.head()"
   ]
  },
  {
   "cell_type": "code",
   "execution_count": 3,
   "metadata": {},
   "outputs": [
    {
     "name": "stderr",
     "output_type": "stream",
     "text": [
      "d:\\Users\\adam\\anaconda3\\envs\\papers\\lib\\site-packages\\pandas\\core\\arraylike.py:364: RuntimeWarning: divide by zero encountered in log\n",
      "  result = getattr(ufunc, method)(*inputs, **kwargs)\n"
     ]
    },
    {
     "data": {
      "text/html": [
       "<div>\n",
       "<style scoped>\n",
       "    .dataframe tbody tr th:only-of-type {\n",
       "        vertical-align: middle;\n",
       "    }\n",
       "\n",
       "    .dataframe tbody tr th {\n",
       "        vertical-align: top;\n",
       "    }\n",
       "\n",
       "    .dataframe thead th {\n",
       "        text-align: right;\n",
       "    }\n",
       "</style>\n",
       "<table border=\"1\" class=\"dataframe\">\n",
       "  <thead>\n",
       "    <tr style=\"text-align: right;\">\n",
       "      <th></th>\n",
       "      <th>Date_vix</th>\n",
       "      <th>Date</th>\n",
       "      <th>vix</th>\n",
       "      <th>log_vix</th>\n",
       "    </tr>\n",
       "  </thead>\n",
       "  <tbody>\n",
       "    <tr>\n",
       "      <th>0</th>\n",
       "      <td>20010102           29.99</td>\n",
       "      <td>2001-01-02</td>\n",
       "      <td>29.99</td>\n",
       "      <td>3.400864</td>\n",
       "    </tr>\n",
       "    <tr>\n",
       "      <th>1</th>\n",
       "      <td>20010102           29.99</td>\n",
       "      <td>2001-01-02</td>\n",
       "      <td>29.99</td>\n",
       "      <td>3.400864</td>\n",
       "    </tr>\n",
       "    <tr>\n",
       "      <th>2</th>\n",
       "      <td>20010103           26.60</td>\n",
       "      <td>2001-01-03</td>\n",
       "      <td>26.60</td>\n",
       "      <td>3.280911</td>\n",
       "    </tr>\n",
       "    <tr>\n",
       "      <th>3</th>\n",
       "      <td>20010103           26.60</td>\n",
       "      <td>2001-01-03</td>\n",
       "      <td>26.60</td>\n",
       "      <td>3.280911</td>\n",
       "    </tr>\n",
       "    <tr>\n",
       "      <th>4</th>\n",
       "      <td>20010104           26.97</td>\n",
       "      <td>2001-01-04</td>\n",
       "      <td>26.97</td>\n",
       "      <td>3.294725</td>\n",
       "    </tr>\n",
       "  </tbody>\n",
       "</table>\n",
       "</div>"
      ],
      "text/plain": [
       "                   Date_vix       Date    vix   log_vix\n",
       "0  20010102           29.99 2001-01-02  29.99  3.400864\n",
       "1  20010102           29.99 2001-01-02  29.99  3.400864\n",
       "2  20010103           26.60 2001-01-03  26.60  3.280911\n",
       "3  20010103           26.60 2001-01-03  26.60  3.280911\n",
       "4  20010104           26.97 2001-01-04  26.97  3.294725"
      ]
     },
     "execution_count": 3,
     "metadata": {},
     "output_type": "execute_result"
    }
   ],
   "source": [
    "def prepare_data(path):\n",
    "    df = pd.read_csv(path)\n",
    "    df.columns = ['Date_vix']\n",
    "    df['Date'] = df['Date_vix'].apply(lambda x: x[0:8])\n",
    "    df['vix'] = df['Date_vix'].apply(lambda x: x[9:])\n",
    "    df['vix'] = df['vix'].apply(lambda x: str.replace(x, ' ', ''))\n",
    "    df['vix'] = df['vix'].apply(lambda x: 0.0 if x == '.' else x)\n",
    "    df['vix'] = df['vix'].astype(float)\n",
    "    df['log_vix'] = np.log(df['vix'])\n",
    "    df['Date'] = pd.to_datetime(df['Date'])\n",
    "    return df\n",
    "df = prepare_data('./data/VIXdata.txt')\n",
    "df.head()"
   ]
  },
  {
   "cell_type": "code",
   "execution_count": 4,
   "metadata": {},
   "outputs": [
    {
     "data": {
      "text/html": [
       "<div>\n",
       "<style scoped>\n",
       "    .dataframe tbody tr th:only-of-type {\n",
       "        vertical-align: middle;\n",
       "    }\n",
       "\n",
       "    .dataframe tbody tr th {\n",
       "        vertical-align: top;\n",
       "    }\n",
       "\n",
       "    .dataframe thead th {\n",
       "        text-align: right;\n",
       "    }\n",
       "</style>\n",
       "<table border=\"1\" class=\"dataframe\">\n",
       "  <thead>\n",
       "    <tr style=\"text-align: right;\">\n",
       "      <th></th>\n",
       "      <th>Date_vix</th>\n",
       "      <th>Date</th>\n",
       "      <th>vix</th>\n",
       "      <th>log_vix</th>\n",
       "    </tr>\n",
       "  </thead>\n",
       "  <tbody>\n",
       "    <tr>\n",
       "      <th>0</th>\n",
       "      <td>20010102           29.99</td>\n",
       "      <td>2001-01-02</td>\n",
       "      <td>29.99</td>\n",
       "      <td>3.400864</td>\n",
       "    </tr>\n",
       "    <tr>\n",
       "      <th>2</th>\n",
       "      <td>20010103           26.60</td>\n",
       "      <td>2001-01-03</td>\n",
       "      <td>26.60</td>\n",
       "      <td>3.280911</td>\n",
       "    </tr>\n",
       "    <tr>\n",
       "      <th>4</th>\n",
       "      <td>20010104           26.97</td>\n",
       "      <td>2001-01-04</td>\n",
       "      <td>26.97</td>\n",
       "      <td>3.294725</td>\n",
       "    </tr>\n",
       "    <tr>\n",
       "      <th>6</th>\n",
       "      <td>20010105           28.67</td>\n",
       "      <td>2001-01-05</td>\n",
       "      <td>28.67</td>\n",
       "      <td>3.355851</td>\n",
       "    </tr>\n",
       "    <tr>\n",
       "      <th>8</th>\n",
       "      <td>20010108           29.84</td>\n",
       "      <td>2001-01-08</td>\n",
       "      <td>29.84</td>\n",
       "      <td>3.395850</td>\n",
       "    </tr>\n",
       "  </tbody>\n",
       "</table>\n",
       "</div>"
      ],
      "text/plain": [
       "                   Date_vix       Date    vix   log_vix\n",
       "0  20010102           29.99 2001-01-02  29.99  3.400864\n",
       "2  20010103           26.60 2001-01-03  26.60  3.280911\n",
       "4  20010104           26.97 2001-01-04  26.97  3.294725\n",
       "6  20010105           28.67 2001-01-05  28.67  3.355851\n",
       "8  20010108           29.84 2001-01-08  29.84  3.395850"
      ]
     },
     "execution_count": 4,
     "metadata": {},
     "output_type": "execute_result"
    }
   ],
   "source": [
    "df = df.drop_duplicates()\n",
    "df.head()"
   ]
  },
  {
   "cell_type": "code",
   "execution_count": 5,
   "metadata": {},
   "outputs": [
    {
     "data": {
      "text/html": [
       "<div>\n",
       "<style scoped>\n",
       "    .dataframe tbody tr th:only-of-type {\n",
       "        vertical-align: middle;\n",
       "    }\n",
       "\n",
       "    .dataframe tbody tr th {\n",
       "        vertical-align: top;\n",
       "    }\n",
       "\n",
       "    .dataframe thead th {\n",
       "        text-align: right;\n",
       "    }\n",
       "</style>\n",
       "<table border=\"1\" class=\"dataframe\">\n",
       "  <thead>\n",
       "    <tr style=\"text-align: right;\">\n",
       "      <th></th>\n",
       "      <th>Date_vix</th>\n",
       "      <th>Date</th>\n",
       "      <th>vix</th>\n",
       "      <th>log_vix</th>\n",
       "    </tr>\n",
       "  </thead>\n",
       "  <tbody>\n",
       "    <tr>\n",
       "      <th>0</th>\n",
       "      <td>20100104           20.04</td>\n",
       "      <td>2010-01-04</td>\n",
       "      <td>20.04</td>\n",
       "      <td>2.997730</td>\n",
       "    </tr>\n",
       "    <tr>\n",
       "      <th>1</th>\n",
       "      <td>20100105           19.35</td>\n",
       "      <td>2010-01-05</td>\n",
       "      <td>19.35</td>\n",
       "      <td>2.962692</td>\n",
       "    </tr>\n",
       "    <tr>\n",
       "      <th>2</th>\n",
       "      <td>20100106           19.16</td>\n",
       "      <td>2010-01-06</td>\n",
       "      <td>19.16</td>\n",
       "      <td>2.952825</td>\n",
       "    </tr>\n",
       "    <tr>\n",
       "      <th>3</th>\n",
       "      <td>20100107           19.06</td>\n",
       "      <td>2010-01-07</td>\n",
       "      <td>19.06</td>\n",
       "      <td>2.947592</td>\n",
       "    </tr>\n",
       "    <tr>\n",
       "      <th>4</th>\n",
       "      <td>20100108           18.13</td>\n",
       "      <td>2010-01-08</td>\n",
       "      <td>18.13</td>\n",
       "      <td>2.897568</td>\n",
       "    </tr>\n",
       "  </tbody>\n",
       "</table>\n",
       "</div>"
      ],
      "text/plain": [
       "                   Date_vix       Date    vix   log_vix\n",
       "0  20100104           20.04 2010-01-04  20.04  2.997730\n",
       "1  20100105           19.35 2010-01-05  19.35  2.962692\n",
       "2  20100106           19.16 2010-01-06  19.16  2.952825\n",
       "3  20100107           19.06 2010-01-07  19.06  2.947592\n",
       "4  20100108           18.13 2010-01-08  18.13  2.897568"
      ]
     },
     "execution_count": 5,
     "metadata": {},
     "output_type": "execute_result"
    }
   ],
   "source": [
    "df = df[df['Date']>='2010-01-01'].reset_index(drop=True)\n",
    "df.head()"
   ]
  },
  {
   "cell_type": "code",
   "execution_count": 33,
   "metadata": {},
   "outputs": [
    {
     "data": {
      "text/html": [
       "<div>\n",
       "<style scoped>\n",
       "    .dataframe tbody tr th:only-of-type {\n",
       "        vertical-align: middle;\n",
       "    }\n",
       "\n",
       "    .dataframe tbody tr th {\n",
       "        vertical-align: top;\n",
       "    }\n",
       "\n",
       "    .dataframe thead th {\n",
       "        text-align: right;\n",
       "    }\n",
       "</style>\n",
       "<table border=\"1\" class=\"dataframe\">\n",
       "  <thead>\n",
       "    <tr style=\"text-align: right;\">\n",
       "      <th></th>\n",
       "      <th>Date_vix</th>\n",
       "      <th>Date</th>\n",
       "      <th>vix</th>\n",
       "      <th>log_vix</th>\n",
       "      <th>log_vix_diff</th>\n",
       "    </tr>\n",
       "  </thead>\n",
       "  <tbody>\n",
       "    <tr>\n",
       "      <th>2</th>\n",
       "      <td>20100106           19.16</td>\n",
       "      <td>2010-01-06</td>\n",
       "      <td>19.16</td>\n",
       "      <td>2.952825</td>\n",
       "      <td>-0.009868</td>\n",
       "    </tr>\n",
       "    <tr>\n",
       "      <th>3</th>\n",
       "      <td>20100107           19.06</td>\n",
       "      <td>2010-01-07</td>\n",
       "      <td>19.06</td>\n",
       "      <td>2.947592</td>\n",
       "      <td>-0.005233</td>\n",
       "    </tr>\n",
       "    <tr>\n",
       "      <th>4</th>\n",
       "      <td>20100108           18.13</td>\n",
       "      <td>2010-01-08</td>\n",
       "      <td>18.13</td>\n",
       "      <td>2.897568</td>\n",
       "      <td>-0.050024</td>\n",
       "    </tr>\n",
       "    <tr>\n",
       "      <th>5</th>\n",
       "      <td>20100111           17.55</td>\n",
       "      <td>2010-01-11</td>\n",
       "      <td>17.55</td>\n",
       "      <td>2.865054</td>\n",
       "      <td>-0.032514</td>\n",
       "    </tr>\n",
       "    <tr>\n",
       "      <th>6</th>\n",
       "      <td>20100112           18.25</td>\n",
       "      <td>2010-01-12</td>\n",
       "      <td>18.25</td>\n",
       "      <td>2.904165</td>\n",
       "      <td>0.039111</td>\n",
       "    </tr>\n",
       "  </tbody>\n",
       "</table>\n",
       "</div>"
      ],
      "text/plain": [
       "                   Date_vix       Date    vix   log_vix  log_vix_diff\n",
       "2  20100106           19.16 2010-01-06  19.16  2.952825     -0.009868\n",
       "3  20100107           19.06 2010-01-07  19.06  2.947592     -0.005233\n",
       "4  20100108           18.13 2010-01-08  18.13  2.897568     -0.050024\n",
       "5  20100111           17.55 2010-01-11  17.55  2.865054     -0.032514\n",
       "6  20100112           18.25 2010-01-12  18.25  2.904165      0.039111"
      ]
     },
     "execution_count": 33,
     "metadata": {},
     "output_type": "execute_result"
    }
   ],
   "source": [
    "df = df[df['vix']>0]\n",
    "df['log_vix_diff'] = df['log_vix'].diff()\n",
    "df.dropna(inplace=True)\n",
    "df.head()"
   ]
  },
  {
   "cell_type": "code",
   "execution_count": 34,
   "metadata": {},
   "outputs": [
    {
     "data": {
      "text/html": [
       "<div>\n",
       "<style scoped>\n",
       "    .dataframe tbody tr th:only-of-type {\n",
       "        vertical-align: middle;\n",
       "    }\n",
       "\n",
       "    .dataframe tbody tr th {\n",
       "        vertical-align: top;\n",
       "    }\n",
       "\n",
       "    .dataframe thead th {\n",
       "        text-align: right;\n",
       "    }\n",
       "</style>\n",
       "<table border=\"1\" class=\"dataframe\">\n",
       "  <thead>\n",
       "    <tr style=\"text-align: right;\">\n",
       "      <th></th>\n",
       "      <th>Date_vix</th>\n",
       "      <th>Date</th>\n",
       "      <th>vix</th>\n",
       "      <th>log_vix</th>\n",
       "      <th>log_vix_diff</th>\n",
       "    </tr>\n",
       "  </thead>\n",
       "  <tbody>\n",
       "    <tr>\n",
       "      <th>3166</th>\n",
       "      <td>20220725           23.36</td>\n",
       "      <td>2022-07-25</td>\n",
       "      <td>23.36</td>\n",
       "      <td>3.151025</td>\n",
       "      <td>0.014227</td>\n",
       "    </tr>\n",
       "    <tr>\n",
       "      <th>3167</th>\n",
       "      <td>20220726           24.69</td>\n",
       "      <td>2022-07-26</td>\n",
       "      <td>24.69</td>\n",
       "      <td>3.206398</td>\n",
       "      <td>0.055373</td>\n",
       "    </tr>\n",
       "    <tr>\n",
       "      <th>3168</th>\n",
       "      <td>20220727           23.24</td>\n",
       "      <td>2022-07-27</td>\n",
       "      <td>23.24</td>\n",
       "      <td>3.145875</td>\n",
       "      <td>-0.060523</td>\n",
       "    </tr>\n",
       "    <tr>\n",
       "      <th>3169</th>\n",
       "      <td>20220728           22.33</td>\n",
       "      <td>2022-07-28</td>\n",
       "      <td>22.33</td>\n",
       "      <td>3.105931</td>\n",
       "      <td>-0.039944</td>\n",
       "    </tr>\n",
       "    <tr>\n",
       "      <th>3170</th>\n",
       "      <td>20220729           21.33</td>\n",
       "      <td>2022-07-29</td>\n",
       "      <td>21.33</td>\n",
       "      <td>3.060115</td>\n",
       "      <td>-0.045817</td>\n",
       "    </tr>\n",
       "  </tbody>\n",
       "</table>\n",
       "</div>"
      ],
      "text/plain": [
       "                      Date_vix       Date    vix   log_vix  log_vix_diff\n",
       "3166  20220725           23.36 2022-07-25  23.36  3.151025      0.014227\n",
       "3167  20220726           24.69 2022-07-26  24.69  3.206398      0.055373\n",
       "3168  20220727           23.24 2022-07-27  23.24  3.145875     -0.060523\n",
       "3169  20220728           22.33 2022-07-28  22.33  3.105931     -0.039944\n",
       "3170  20220729           21.33 2022-07-29  21.33  3.060115     -0.045817"
      ]
     },
     "execution_count": 34,
     "metadata": {},
     "output_type": "execute_result"
    }
   ],
   "source": [
    "df.tail()"
   ]
  },
  {
   "cell_type": "code",
   "execution_count": 35,
   "metadata": {},
   "outputs": [
    {
     "data": {
      "text/plain": [
       "(0.7682450067910249, -0.35058849788233015, 3.077135597203669e-05)"
      ]
     },
     "execution_count": 35,
     "metadata": {},
     "output_type": "execute_result"
    }
   ],
   "source": [
    "from scipy.stats import skew,kurtosis\n",
    "from statsmodels.stats.stattools import jarque_bera\n",
    "## Q statistics\n",
    "from statsmodels.tsa.stattools import q_stat,acf \n",
    "\n",
    "column='log_vix_diff'\n",
    "df[column].max(),df[column].min(),df[column].mean()\n"
   ]
  },
  {
   "cell_type": "code",
   "execution_count": 36,
   "metadata": {},
   "outputs": [
    {
     "data": {
      "text/plain": [
       "0.07935582092115077"
      ]
     },
     "execution_count": 36,
     "metadata": {},
     "output_type": "execute_result"
    }
   ],
   "source": [
    "df[column].std()"
   ]
  },
  {
   "cell_type": "code",
   "execution_count": 37,
   "metadata": {},
   "outputs": [
    {
     "data": {
      "text/plain": [
       "1.1359756052998597"
      ]
     },
     "execution_count": 37,
     "metadata": {},
     "output_type": "execute_result"
    }
   ],
   "source": [
    "df[column].skew()\n"
   ]
  },
  {
   "cell_type": "code",
   "execution_count": 38,
   "metadata": {},
   "outputs": [
    {
     "data": {
      "text/plain": [
       "6.166692154957172"
      ]
     },
     "execution_count": 38,
     "metadata": {},
     "output_type": "execute_result"
    }
   ],
   "source": [
    "kurtosis(df[column])\n"
   ]
  },
  {
   "cell_type": "code",
   "execution_count": 39,
   "metadata": {},
   "outputs": [
    {
     "data": {
      "text/plain": [
       "(5696.816478860299, 0.0, 1.1354373274380574, 9.166692154957172)"
      ]
     },
     "execution_count": 39,
     "metadata": {},
     "output_type": "execute_result"
    }
   ],
   "source": [
    "jarque_bera(df[column])\n"
   ]
  },
  {
   "cell_type": "code",
   "execution_count": 40,
   "metadata": {},
   "outputs": [
    {
     "name": "stderr",
     "output_type": "stream",
     "text": [
      "d:\\Users\\adam\\anaconda3\\envs\\papers\\lib\\site-packages\\statsmodels\\tsa\\stattools.py:558: RuntimeWarning: divide by zero encountered in true_divide\n",
      "  * np.cumsum((1.0 / (nobs - np.arange(1, len(x) + 1))) * x ** 2)\n"
     ]
    },
    {
     "data": {
      "text/plain": [
       "(array([3.08567067e-01, 3.95371163e-01, 8.33045511e+00, ...,\n",
       "        3.83321171e+05, 3.99323982e+05,            inf]),\n",
       " array([0.57856082, 0.82062783, 0.03965378, ..., 0.        , 0.        ,\n",
       "        0.        ]))"
      ]
     },
     "execution_count": 40,
     "metadata": {},
     "output_type": "execute_result"
    }
   ],
   "source": [
    "\n",
    "q_stat(df[column],df[column].shape[0])\n",
    "\n"
   ]
  },
  {
   "cell_type": "code",
   "execution_count": 41,
   "metadata": {},
   "outputs": [
    {
     "data": {
      "text/plain": [
       "1.1359756052998597"
      ]
     },
     "execution_count": 41,
     "metadata": {},
     "output_type": "execute_result"
    }
   ],
   "source": [
    "df[column].skew()"
   ]
  },
  {
   "cell_type": "code",
   "execution_count": 42,
   "metadata": {},
   "outputs": [
    {
     "data": {
      "text/plain": [
       "1.1354373274380574"
      ]
     },
     "execution_count": 42,
     "metadata": {},
     "output_type": "execute_result"
    }
   ],
   "source": [
    "\n",
    "skew(df[column])"
   ]
  },
  {
   "cell_type": "code",
   "execution_count": 43,
   "metadata": {},
   "outputs": [
    {
     "data": {
      "text/plain": [
       "6.166692154957172"
      ]
     },
     "execution_count": 43,
     "metadata": {},
     "output_type": "execute_result"
    }
   ],
   "source": [
    "kurtosis(df[column])"
   ]
  },
  {
   "cell_type": "code",
   "execution_count": null,
   "metadata": {},
   "outputs": [],
   "source": []
  },
  {
   "cell_type": "code",
   "execution_count": 44,
   "metadata": {},
   "outputs": [
    {
     "data": {
      "text/plain": [
       "(5696.816478860299, 0.0, 1.1354373274380574, 9.166692154957172)"
      ]
     },
     "execution_count": 44,
     "metadata": {},
     "output_type": "execute_result"
    }
   ],
   "source": [
    "jarque_bera(df[column])"
   ]
  },
  {
   "cell_type": "code",
   "execution_count": 19,
   "metadata": {},
   "outputs": [],
   "source": [
    "\n",
    "\n",
    "# acf(df[df['vix']>0]['vix'],nlags=10)"
   ]
  },
  {
   "cell_type": "code",
   "execution_count": 45,
   "metadata": {},
   "outputs": [
    {
     "data": {
      "text/html": [
       "<div>\n",
       "<style scoped>\n",
       "    .dataframe tbody tr th:only-of-type {\n",
       "        vertical-align: middle;\n",
       "    }\n",
       "\n",
       "    .dataframe tbody tr th {\n",
       "        vertical-align: top;\n",
       "    }\n",
       "\n",
       "    .dataframe thead th {\n",
       "        text-align: right;\n",
       "    }\n",
       "</style>\n",
       "<table border=\"1\" class=\"dataframe\">\n",
       "  <thead>\n",
       "    <tr style=\"text-align: right;\">\n",
       "      <th></th>\n",
       "      <th>lb_stat</th>\n",
       "      <th>lb_pvalue</th>\n",
       "    </tr>\n",
       "  </thead>\n",
       "  <tbody>\n",
       "    <tr>\n",
       "      <th>10</th>\n",
       "      <td>40.945596</td>\n",
       "      <td>0.000012</td>\n",
       "    </tr>\n",
       "  </tbody>\n",
       "</table>\n",
       "</div>"
      ],
      "text/plain": [
       "      lb_stat  lb_pvalue\n",
       "10  40.945596   0.000012"
      ]
     },
     "execution_count": 45,
     "metadata": {},
     "output_type": "execute_result"
    }
   ],
   "source": [
    "import statsmodels.api as sm\n",
    "sm.stats.acorr_ljungbox(df[column], lags=[10], return_df=True) #Q(10)"
   ]
  },
  {
   "cell_type": "code",
   "execution_count": 46,
   "metadata": {},
   "outputs": [
    {
     "data": {
      "text/html": [
       "<div>\n",
       "<style scoped>\n",
       "    .dataframe tbody tr th:only-of-type {\n",
       "        vertical-align: middle;\n",
       "    }\n",
       "\n",
       "    .dataframe tbody tr th {\n",
       "        vertical-align: top;\n",
       "    }\n",
       "\n",
       "    .dataframe thead th {\n",
       "        text-align: right;\n",
       "    }\n",
       "</style>\n",
       "<table border=\"1\" class=\"dataframe\">\n",
       "  <thead>\n",
       "    <tr style=\"text-align: right;\">\n",
       "      <th></th>\n",
       "      <th>lb_stat</th>\n",
       "      <th>lb_pvalue</th>\n",
       "    </tr>\n",
       "  </thead>\n",
       "  <tbody>\n",
       "    <tr>\n",
       "      <th>20</th>\n",
       "      <td>49.594266</td>\n",
       "      <td>0.000253</td>\n",
       "    </tr>\n",
       "  </tbody>\n",
       "</table>\n",
       "</div>"
      ],
      "text/plain": [
       "      lb_stat  lb_pvalue\n",
       "20  49.594266   0.000253"
      ]
     },
     "execution_count": 46,
     "metadata": {},
     "output_type": "execute_result"
    }
   ],
   "source": [
    "sm.stats.acorr_ljungbox(df[column], lags=[20], return_df=True) #Q(20)"
   ]
  },
  {
   "cell_type": "code",
   "execution_count": 47,
   "metadata": {},
   "outputs": [
    {
     "data": {
      "text/plain": [
       "(-23.363793625501298,\n",
       " 0.0,\n",
       " 7,\n",
       " 3158,\n",
       " {'1%': -3.4324223949823685,\n",
       "  '5%': -2.8624556569780975,\n",
       "  '10%': -2.5672574254233744},\n",
       " -6957.583705892843)"
      ]
     },
     "execution_count": 47,
     "metadata": {},
     "output_type": "execute_result"
    }
   ],
   "source": [
    "from statsmodels.tsa.stattools import adfuller\n",
    "adfuller(df[column],maxlag=50)"
   ]
  },
  {
   "cell_type": "code",
   "execution_count": 48,
   "metadata": {},
   "outputs": [
    {
     "data": {
      "text/html": [
       "<table class=\"simpletable\">\n",
       "<caption>Phillips-Perron Test (Z-tau)</caption>\n",
       "<tr>\n",
       "  <td>Test Statistic</td>   <td>-65.777</td>\n",
       "</tr>\n",
       "<tr>\n",
       "  <td>P-value</td>            <td>0.000</td>\n",
       "</tr>\n",
       "<tr>\n",
       "  <td>Lags</td>                  <td>29</td>\n",
       "</tr>\n",
       "</table><br/><br/>Trend: Constant<br/>Critical Values: -3.43 (1%), -2.86 (5%), -2.57 (10%)<br/>Null Hypothesis: The process contains a unit root.<br/>Alternative Hypothesis: The process is weakly stationary."
      ],
      "text/plain": [
       "<class 'statsmodels.iolib.summary.Summary'>\n",
       "\"\"\"\n",
       "     Phillips-Perron Test (Z-tau)    \n",
       "=====================================\n",
       "Test Statistic                -65.777\n",
       "P-value                         0.000\n",
       "Lags                               29\n",
       "-------------------------------------\n",
       "\n",
       "Trend: Constant\n",
       "Critical Values: -3.43 (1%), -2.86 (5%), -2.57 (10%)\n",
       "Null Hypothesis: The process contains a unit root.\n",
       "Alternative Hypothesis: The process is weakly stationary.\n",
       "\"\"\""
      ]
     },
     "execution_count": 48,
     "metadata": {},
     "output_type": "execute_result"
    }
   ],
   "source": [
    "from arch.unitroot import PhillipsPerron\n",
    "pp = PhillipsPerron(df[column])\n",
    "pp.summary()"
   ]
  },
  {
   "cell_type": "code",
   "execution_count": 49,
   "metadata": {},
   "outputs": [
    {
     "name": "stderr",
     "output_type": "stream",
     "text": [
      "d:\\Users\\adam\\anaconda3\\envs\\papers\\lib\\site-packages\\statsmodels\\tsa\\stattools.py:2023: InterpolationWarning: The test statistic is outside of the range of p-values available in the\n",
      "look-up table. The actual p-value is greater than the p-value returned.\n",
      "\n",
      "  warn_msg.format(direction=\"greater\"), InterpolationWarning\n"
     ]
    },
    {
     "data": {
      "text/plain": [
       "(0.013600826026887957,\n",
       " 0.1,\n",
       " 23,\n",
       " {'10%': 0.347, '5%': 0.463, '2.5%': 0.574, '1%': 0.739})"
      ]
     },
     "execution_count": 49,
     "metadata": {},
     "output_type": "execute_result"
    }
   ],
   "source": [
    "from statsmodels.tsa.stattools import kpss\n",
    "kpss(df[column])"
   ]
  },
  {
   "cell_type": "code",
   "execution_count": null,
   "metadata": {},
   "outputs": [],
   "source": []
  },
  {
   "cell_type": "code",
   "execution_count": 27,
   "metadata": {},
   "outputs": [
    {
     "data": {
      "text/plain": [
       "(3170, 5)"
      ]
     },
     "execution_count": 27,
     "metadata": {},
     "output_type": "execute_result"
    }
   ],
   "source": [
    "df.shape "
   ]
  },
  {
   "cell_type": "code",
   "execution_count": 8,
   "metadata": {},
   "outputs": [
    {
     "data": {
      "image/png": "[encoded data removed]",
      "text/plain": [
       "<Figure size 640x480 with 1 Axes>"
      ]
     },
     "metadata": {},
     "output_type": "display_data"
    }
   ],
   "source": [
    "import datetime \n",
    "plt.plot(df['Date'],df['vix'])\n",
    "plt.vlines(datetime.datetime.strptime('2014-01-02','%Y-%m-%d'),0,80,linestyles =\"dashed\", colors =\"b\")\n",
    "plt.vlines(datetime.datetime.strptime('2014-03-03','%Y-%m-%d'),0,80,linestyles =\"dashed\", colors =\"b\")\n",
    "plt.title(\"VIX\")\n",
    "plt.show()"
   ]
  },
  {
   "cell_type": "code",
   "execution_count": 9,
   "metadata": {},
   "outputs": [
    {
     "data": {
      "text/plain": [
       "datetime.datetime(2022, 7, 25, 0, 0)"
      ]
     },
     "execution_count": 9,
     "metadata": {},
     "output_type": "execute_result"
    }
   ],
   "source": [
    "import datetime \n",
    "datetime.datetime.strptime('2022-07-25','%Y-%m-%d')"
   ]
  },
  {
   "cell_type": "code",
   "execution_count": 10,
   "metadata": {},
   "outputs": [
    {
     "data": {
      "text/html": [
       "<div>\n",
       "<style scoped>\n",
       "    .dataframe tbody tr th:only-of-type {\n",
       "        vertical-align: middle;\n",
       "    }\n",
       "\n",
       "    .dataframe tbody tr th {\n",
       "        vertical-align: top;\n",
       "    }\n",
       "\n",
       "    .dataframe thead th {\n",
       "        text-align: right;\n",
       "    }\n",
       "</style>\n",
       "<table border=\"1\" class=\"dataframe\">\n",
       "  <thead>\n",
       "    <tr style=\"text-align: right;\">\n",
       "      <th></th>\n",
       "      <th>Date_vix</th>\n",
       "      <th>Date</th>\n",
       "      <th>vix</th>\n",
       "      <th>log_vix</th>\n",
       "    </tr>\n",
       "  </thead>\n",
       "  <tbody>\n",
       "    <tr>\n",
       "      <th>1046</th>\n",
       "      <td>20140303           16.00</td>\n",
       "      <td>2014-03-03</td>\n",
       "      <td>16.00</td>\n",
       "      <td>2.772589</td>\n",
       "    </tr>\n",
       "    <tr>\n",
       "      <th>1047</th>\n",
       "      <td>20140304           14.10</td>\n",
       "      <td>2014-03-04</td>\n",
       "      <td>14.10</td>\n",
       "      <td>2.646175</td>\n",
       "    </tr>\n",
       "    <tr>\n",
       "      <th>1048</th>\n",
       "      <td>20140305           13.89</td>\n",
       "      <td>2014-03-05</td>\n",
       "      <td>13.89</td>\n",
       "      <td>2.631169</td>\n",
       "    </tr>\n",
       "    <tr>\n",
       "      <th>1049</th>\n",
       "      <td>20140306           14.21</td>\n",
       "      <td>2014-03-06</td>\n",
       "      <td>14.21</td>\n",
       "      <td>2.653946</td>\n",
       "    </tr>\n",
       "    <tr>\n",
       "      <th>1050</th>\n",
       "      <td>20140307           14.11</td>\n",
       "      <td>2014-03-07</td>\n",
       "      <td>14.11</td>\n",
       "      <td>2.646884</td>\n",
       "    </tr>\n",
       "    <tr>\n",
       "      <th>...</th>\n",
       "      <td>...</td>\n",
       "      <td>...</td>\n",
       "      <td>...</td>\n",
       "      <td>...</td>\n",
       "    </tr>\n",
       "    <tr>\n",
       "      <th>3166</th>\n",
       "      <td>20220725           23.36</td>\n",
       "      <td>2022-07-25</td>\n",
       "      <td>23.36</td>\n",
       "      <td>3.151025</td>\n",
       "    </tr>\n",
       "    <tr>\n",
       "      <th>3167</th>\n",
       "      <td>20220726           24.69</td>\n",
       "      <td>2022-07-26</td>\n",
       "      <td>24.69</td>\n",
       "      <td>3.206398</td>\n",
       "    </tr>\n",
       "    <tr>\n",
       "      <th>3168</th>\n",
       "      <td>20220727           23.24</td>\n",
       "      <td>2022-07-27</td>\n",
       "      <td>23.24</td>\n",
       "      <td>3.145875</td>\n",
       "    </tr>\n",
       "    <tr>\n",
       "      <th>3169</th>\n",
       "      <td>20220728           22.33</td>\n",
       "      <td>2022-07-28</td>\n",
       "      <td>22.33</td>\n",
       "      <td>3.105931</td>\n",
       "    </tr>\n",
       "    <tr>\n",
       "      <th>3170</th>\n",
       "      <td>20220729           21.33</td>\n",
       "      <td>2022-07-29</td>\n",
       "      <td>21.33</td>\n",
       "      <td>3.060115</td>\n",
       "    </tr>\n",
       "  </tbody>\n",
       "</table>\n",
       "<p>2125 rows × 4 columns</p>\n",
       "</div>"
      ],
      "text/plain": [
       "                      Date_vix       Date    vix   log_vix\n",
       "1046  20140303           16.00 2014-03-03  16.00  2.772589\n",
       "1047  20140304           14.10 2014-03-04  14.10  2.646175\n",
       "1048  20140305           13.89 2014-03-05  13.89  2.631169\n",
       "1049  20140306           14.21 2014-03-06  14.21  2.653946\n",
       "1050  20140307           14.11 2014-03-07  14.11  2.646884\n",
       "...                        ...        ...    ...       ...\n",
       "3166  20220725           23.36 2022-07-25  23.36  3.151025\n",
       "3167  20220726           24.69 2022-07-26  24.69  3.206398\n",
       "3168  20220727           23.24 2022-07-27  23.24  3.145875\n",
       "3169  20220728           22.33 2022-07-28  22.33  3.105931\n",
       "3170  20220729           21.33 2022-07-29  21.33  3.060115\n",
       "\n",
       "[2125 rows x 4 columns]"
      ]
     },
     "execution_count": 10,
     "metadata": {},
     "output_type": "execute_result"
    }
   ],
   "source": [
    "df[df['Date']>='2014-03-01']"
   ]
  },
  {
   "cell_type": "code",
   "execution_count": 102,
   "metadata": {},
   "outputs": [
    {
     "data": {
      "image/png": "[encoded data removed]",
      "text/plain": [
       "<Figure size 1200x800 with 3 Axes>"
      ]
     },
     "metadata": {},
     "output_type": "display_data"
    }
   ],
   "source": [
    "import numpy as np\n",
    "import matplotlib.pyplot as plt\n",
    "from mpl_toolkits.axes_grid1.inset_locator import mark_inset\n",
    "from mpl_toolkits.axes_grid1.inset_locator import inset_axes\n",
    "import matplotlib.ticker as ticker\n",
    "# plt.gca().xaxis.set_major_locator(ticker.MultipleLocator(20))\n",
    "# 准备数据\n",
    "x = df['Date']\n",
    "y_1 = df['vix']\n",
    "\n",
    "\n",
    "\n",
    "# 绘图\n",
    "fig, ax = plt.subplots(1, 1, figsize=(12, 8))\n",
    "ax.plot(x, y_1, color='k', linestyle='--', linewidth=1)\n",
    "ax.vlines(datetime.datetime.strptime('2015-06-12','%Y-%m-%d'),10,45,linestyles =\"dashed\", colors =\"b\")\n",
    "ax.vlines(datetime.datetime.strptime('2016-02-03','%Y-%m-%d'),10,45,linestyles =\"dashed\", colors =\"b\")\n",
    "ax.hlines(10,datetime.datetime.strptime('2015-06-12','%Y-%m-%d'),datetime.datetime.strptime('2016-02-03','%Y-%m-%d'),linestyles =\"dashed\", colors =\"b\")\n",
    "ax.hlines(45,datetime.datetime.strptime('2015-06-12','%Y-%m-%d'),datetime.datetime.strptime('2016-02-03','%Y-%m-%d'),linestyles =\"dashed\", colors =\"b\")\n",
    "ax.annotate(\"Chinese stock \\n market turbulence\", xy=(datetime.datetime.strptime('2015-10-12','%Y-%m-%d'),45),\n",
    "            xytext=(datetime.datetime.strptime('2014-05-01','%Y-%m-%d'),60),arrowprops =dict(facecolor='green'))\n",
    "\n",
    "ax.vlines(datetime.datetime.strptime('2017-12-01','%Y-%m-%d'),5,45,linestyles =\"dashed\", colors =\"b\")\n",
    "ax.vlines(datetime.datetime.strptime('2018-06-03','%Y-%m-%d'),5,45,linestyles =\"dashed\", colors =\"b\")\n",
    "ax.hlines(5,datetime.datetime.strptime('2017-12-01','%Y-%m-%d'),datetime.datetime.strptime('2018-06-03','%Y-%m-%d'),linestyles =\"dashed\", colors =\"b\")\n",
    "ax.hlines(45,datetime.datetime.strptime('2017-12-01','%Y-%m-%d'),datetime.datetime.strptime('2018-06-03','%Y-%m-%d'),linestyles =\"dashed\", colors =\"b\")\n",
    "ax.annotate(\"Sharp correction of\\n the US stock market\", xy=(datetime.datetime.strptime('2018-03-12','%Y-%m-%d'),45),\n",
    "            xytext=(datetime.datetime.strptime('2017-12-12','%Y-%m-%d'),60),arrowprops =dict(facecolor='green'))\n",
    "\n",
    "\n",
    "\n",
    "\n",
    "ax.legend(labels=[\"VIX\"], ncol=3)\n",
    "\n",
    "# 嵌入绘制局部放大图的坐标系\n",
    "axins = inset_axes(ax, width=\"10%\", height=\"20%\",loc='lower left',\n",
    "                   bbox_to_anchor=(0.1, 0.7, 1, 1),\n",
    "                   bbox_transform=ax.transAxes)\n",
    "\n",
    "# 在子坐标系中绘制原始数据\n",
    "axins.plot(x, y_1, color='k', linestyle='-.', linewidth=1)\n",
    "\n",
    "# 设置放大区间\n",
    "zone_left =1006\n",
    "zone_right = 1046\n",
    "\n",
    "# 坐标轴的扩展比例（根据实际数据调整）\n",
    "x_ratio = 0.5 # x轴显示范围的扩展比例\n",
    "y_ratio = 0.1 # y轴显示范围的扩展比例\n",
    "\n",
    "# X轴的显示范围\n",
    "xlim0 = x[zone_left]-(x[zone_right]-x[zone_left])*x_ratio\n",
    "xlim1 = x[zone_right]+(x[zone_right]-x[zone_left])*x_ratio\n",
    "\n",
    "# Y轴的显示范围\n",
    "y = np.hstack((y_1[zone_left:zone_right]))\n",
    "ylim0 = np.min(y)-(np.max(y)-np.min(y))*y_ratio\n",
    "ylim1 = np.max(y)+(np.max(y)-np.min(y))*y_ratio\n",
    "\n",
    "# 调整子坐标系的显示范围\n",
    "axins.set_xlim(xlim0, xlim1)\n",
    "axins.set_ylim(ylim0, ylim1)\n",
    "\n",
    "# 建立父坐标系与子坐标系的连接线\n",
    "# loc1 loc2: 坐标系的四个角\n",
    "# 1 (右上) 2 (左上) 3(左下) 4(右下)\n",
    "mark_inset(ax, axins, loc1=4, loc2=3, fc=\"none\", ec='k', lw=1)\n",
    "plt.xticks(rotation=90,size=8)\n",
    "plt.gca().xaxis.set_major_locator(ticker.MultipleLocator(30))\n",
    "##############################################################################################\n",
    "\n",
    "# 嵌入绘制局部放大图的坐标系\n",
    "axins_1 = inset_axes(ax, width=\"10%\", height=\"20%\",loc='lower left',\n",
    "                   bbox_to_anchor=(0.5, 0.7, 1, 1),\n",
    "                   bbox_transform=ax.transAxes)\n",
    "\n",
    "# 在子坐标系中绘制原始数据\n",
    "axins_1.plot(x, y_1, color='k', linestyle='-.', linewidth=1)\n",
    "# 设置放大区间\n",
    "zone_left_1 =2013\n",
    "zone_right_1 = 2054\n",
    "\n",
    "\n",
    "\n",
    "# X轴的显示范围\n",
    "xlim0 = x[zone_left_1]-(x[zone_right_1]-x[zone_left_1])*x_ratio\n",
    "xlim1 = x[zone_right_1]+(x[zone_right_1]-x[zone_left_1])*x_ratio\n",
    "\n",
    "# Y轴的显示范围\n",
    "y = np.hstack((y_1[zone_left_1:zone_right_1]))\n",
    "ylim0 = np.min(y)-(np.max(y)-np.min(y))*y_ratio\n",
    "ylim1 = np.max(y)+(np.max(y)-np.min(y))*y_ratio\n",
    "\n",
    "# 调整子坐标系的显示范围\n",
    "axins_1.set_xlim(xlim0, xlim1)\n",
    "# axins_1.set_xticks(x[zone_left_1:zone_right_1],rotation=90)\n",
    "axins_1.set_ylim(ylim0, ylim1)\n",
    "\n",
    "\n",
    "# 建立父坐标系与子坐标系的连接线\n",
    "# loc1 loc2: 坐标系的四个角\n",
    "# 1 (右上) 2 (左上) 3(左下) 4(右下)\n",
    "mark_inset(ax, axins_1, loc1=4, loc2=3, fc=\"none\", ec='k', lw=1)\n",
    "plt.xticks(rotation=90,size=8)\n",
    "plt.gca().xaxis.set_major_locator(ticker.MultipleLocator(30))\n",
    "# 显示\n",
    "plt.show()"
   ]
  },
  {
   "cell_type": "code",
   "execution_count": 12,
   "metadata": {},
   "outputs": [
    {
     "data": {
      "text/plain": [
       "Timestamp('2010-01-06 00:00:00')"
      ]
     },
     "execution_count": 12,
     "metadata": {},
     "output_type": "execute_result"
    }
   ],
   "source": [
    "x[2]"
   ]
  },
  {
   "cell_type": "code",
   "execution_count": 13,
   "metadata": {},
   "outputs": [
    {
     "data": {
      "text/plain": [
       "Timestamp('2010-01-04 00:00:00')"
      ]
     },
     "execution_count": 13,
     "metadata": {},
     "output_type": "execute_result"
    }
   ],
   "source": [
    "x[0]"
   ]
  },
  {
   "cell_type": "code",
   "execution_count": 14,
   "metadata": {},
   "outputs": [
    {
     "ename": "TypeError",
     "evalue": "'RangeIndex' object is not callable",
     "output_type": "error",
     "traceback": [
      "\u001b[1;31m---------------------------------------------------------------------------\u001b[0m",
      "\u001b[1;31mTypeError\u001b[0m                                 Traceback (most recent call last)",
      "Cell \u001b[1;32mIn[14], line 1\u001b[0m\n\u001b[1;32m----> 1\u001b[0m x\u001b[39m.\u001b[39;49mindex(x[\u001b[39m2\u001b[39;49m])\n",
      "\u001b[1;31mTypeError\u001b[0m: 'RangeIndex' object is not callable"
     ]
    }
   ],
   "source": [
    "x.index(x[2])"
   ]
  },
  {
   "cell_type": "code",
   "execution_count": 15,
   "metadata": {},
   "outputs": [
    {
     "data": {
      "text/plain": [
       "Timestamp('2010-01-06 00:00:00')"
      ]
     },
     "execution_count": 15,
     "metadata": {},
     "output_type": "execute_result"
    }
   ],
   "source": [
    "x[2]"
   ]
  },
  {
   "cell_type": "code",
   "execution_count": 16,
   "metadata": {},
   "outputs": [],
   "source": [
    "aa = [1,2,3]"
   ]
  },
  {
   "cell_type": "code",
   "execution_count": 18,
   "metadata": {},
   "outputs": [
    {
     "data": {
      "text/plain": [
       "1"
      ]
     },
     "execution_count": 18,
     "metadata": {},
     "output_type": "execute_result"
    }
   ],
   "source": [
    "aa.index(2)"
   ]
  },
  {
   "cell_type": "code",
   "execution_count": 66,
   "metadata": {},
   "outputs": [
    {
     "data": {
      "text/plain": [
       "2013"
      ]
     },
     "execution_count": 66,
     "metadata": {},
     "output_type": "execute_result"
    }
   ],
   "source": [
    "x_ = list(x)\n",
    "x_.index(datetime.datetime.strptime('2018-01-02','%Y-%m-%d')) "
   ]
  },
  {
   "cell_type": "code",
   "execution_count": 1,
   "metadata": {},
   "outputs": [],
   "source": [
    "import pandas as pd\n",
    "import numpy as np\n",
    "df = pd.DataFrame(np.random.normal(0,1,size=(10,3)),columns=['a','b','c'])"
   ]
  },
  {
   "cell_type": "code",
   "execution_count": 3,
   "metadata": {},
   "outputs": [
    {
     "name": "stderr",
     "output_type": "stream",
     "text": [
      "C:\\Users\\gaoxc\\AppData\\Local\\Temp\\ipykernel_3736\\1669264725.py:1: FutureWarning: In future versions `DataFrame.to_latex` is expected to utilise the base implementation of `Styler.to_latex` for formatting and rendering. The arguments signature may therefore change. It is recommended instead to use `DataFrame.style.to_latex` which also contains additional functionality.\n",
      "  df.to_latex()\n"
     ]
    },
    {
     "data": {
      "text/plain": [
       "'\\\\begin{tabular}{lrrr}\\n\\\\toprule\\n{} &         a &         b &         c \\\\\\\\\\n\\\\midrule\\n0 &  0.774014 & -0.481054 & -0.541687 \\\\\\\\\\n1 &  0.773067 &  0.474495 & -1.088093 \\\\\\\\\\n2 &  0.570071 &  1.003325 & -0.917580 \\\\\\\\\\n3 &  0.870415 & -0.920559 &  0.626824 \\\\\\\\\\n4 &  0.190671 &  0.040934 &  0.854994 \\\\\\\\\\n5 & -1.259004 & -0.645843 & -0.540950 \\\\\\\\\\n6 & -2.130448 & -0.571197 &  1.269486 \\\\\\\\\\n7 & -1.389794 &  0.996258 & -1.578156 \\\\\\\\\\n8 &  0.341951 &  0.316749 & -1.005123 \\\\\\\\\\n9 & -0.475077 & -0.227695 & -0.612767 \\\\\\\\\\n\\\\bottomrule\\n\\\\end{tabular}\\n'"
      ]
     },
     "execution_count": 3,
     "metadata": {},
     "output_type": "execute_result"
    }
   ],
   "source": [
    "df.to_latex()"
   ]
  },
  {
   "cell_type": "code",
   "execution_count": 4,
   "metadata": {},
   "outputs": [
    {
     "data": {
      "text/html": [
       "<div>\n",
       "<style scoped>\n",
       "    .dataframe tbody tr th:only-of-type {\n",
       "        vertical-align: middle;\n",
       "    }\n",
       "\n",
       "    .dataframe tbody tr th {\n",
       "        vertical-align: top;\n",
       "    }\n",
       "\n",
       "    .dataframe thead th {\n",
       "        text-align: right;\n",
       "    }\n",
       "</style>\n",
       "<table border=\"1\" class=\"dataframe\">\n",
       "  <thead>\n",
       "    <tr style=\"text-align: right;\">\n",
       "      <th></th>\n",
       "      <th>a</th>\n",
       "      <th>b</th>\n",
       "      <th>c</th>\n",
       "    </tr>\n",
       "  </thead>\n",
       "  <tbody>\n",
       "    <tr>\n",
       "      <th>0</th>\n",
       "      <td>0.774014</td>\n",
       "      <td>-0.481054</td>\n",
       "      <td>-0.541687</td>\n",
       "    </tr>\n",
       "    <tr>\n",
       "      <th>1</th>\n",
       "      <td>0.773067</td>\n",
       "      <td>0.474495</td>\n",
       "      <td>-1.088093</td>\n",
       "    </tr>\n",
       "    <tr>\n",
       "      <th>2</th>\n",
       "      <td>0.570071</td>\n",
       "      <td>1.003325</td>\n",
       "      <td>-0.917580</td>\n",
       "    </tr>\n",
       "    <tr>\n",
       "      <th>3</th>\n",
       "      <td>0.870415</td>\n",
       "      <td>-0.920559</td>\n",
       "      <td>0.626824</td>\n",
       "    </tr>\n",
       "    <tr>\n",
       "      <th>4</th>\n",
       "      <td>0.190671</td>\n",
       "      <td>0.040934</td>\n",
       "      <td>0.854994</td>\n",
       "    </tr>\n",
       "    <tr>\n",
       "      <th>5</th>\n",
       "      <td>-1.259004</td>\n",
       "      <td>-0.645843</td>\n",
       "      <td>-0.540950</td>\n",
       "    </tr>\n",
       "    <tr>\n",
       "      <th>6</th>\n",
       "      <td>-2.130448</td>\n",
       "      <td>-0.571197</td>\n",
       "      <td>1.269486</td>\n",
       "    </tr>\n",
       "    <tr>\n",
       "      <th>7</th>\n",
       "      <td>-1.389794</td>\n",
       "      <td>0.996258</td>\n",
       "      <td>-1.578156</td>\n",
       "    </tr>\n",
       "    <tr>\n",
       "      <th>8</th>\n",
       "      <td>0.341951</td>\n",
       "      <td>0.316749</td>\n",
       "      <td>-1.005123</td>\n",
       "    </tr>\n",
       "    <tr>\n",
       "      <th>9</th>\n",
       "      <td>-0.475077</td>\n",
       "      <td>-0.227695</td>\n",
       "      <td>-0.612767</td>\n",
       "    </tr>\n",
       "  </tbody>\n",
       "</table>\n",
       "</div>"
      ],
      "text/plain": [
       "          a         b         c\n",
       "0  0.774014 -0.481054 -0.541687\n",
       "1  0.773067  0.474495 -1.088093\n",
       "2  0.570071  1.003325 -0.917580\n",
       "3  0.870415 -0.920559  0.626824\n",
       "4  0.190671  0.040934  0.854994\n",
       "5 -1.259004 -0.645843 -0.540950\n",
       "6 -2.130448 -0.571197  1.269486\n",
       "7 -1.389794  0.996258 -1.578156\n",
       "8  0.341951  0.316749 -1.005123\n",
       "9 -0.475077 -0.227695 -0.612767"
      ]
     },
     "execution_count": 4,
     "metadata": {},
     "output_type": "execute_result"
    }
   ],
   "source": [
    "df"
   ]
  },
  {
   "cell_type": "code",
   "execution_count": null,
   "metadata": {},
   "outputs": [],
   "source": []
  }
 ],
 "metadata": {
  "kernelspec": {
   "display_name": "papers",
   "language": "python",
   "name": "python3"
  },
  "language_info": {
   "codemirror_mode": {
    "name": "ipython",
    "version": 3
   },
   "file_extension": ".py",
   "mimetype": "text/x-python",
   "name": "python",
   "nbconvert_exporter": "python",
   "pygments_lexer": "ipython3",
   "version": "3.7.16"
  },
  "orig_nbformat": 4,
  "vscode": {
   "interpreter": {
    "hash": "e8fd57d0b77f1bd3f15eecf97b99cac24e5c1ab2e73b041d1d2ab9fa236faf8e"
   }
  }
 },
 "nbformat": 4,
 "nbformat_minor": 2
}
