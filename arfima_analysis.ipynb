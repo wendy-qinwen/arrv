{
 "cells": [
  {
   "cell_type": "code",
   "execution_count": 30,
   "metadata": {},
   "outputs": [],
   "source": [
    "import pandas as pd \n",
    "df_arfima = pd.read_csv('./data/arfima.txt',index_col=0)\n",
    "df_arfima.reset_index(drop=True)\n",
    "df_arfima = df_arfima.T.reset_index(drop=True)"
   ]
  },
  {
   "cell_type": "code",
   "execution_count": 31,
   "metadata": {},
   "outputs": [],
   "source": [
    "columns = [\"pred_\"+str(i) for i in range(1,31)]+['Date']\n",
    "df_arfima.columns = columns \n"
   ]
  },
  {
   "cell_type": "code",
   "execution_count": 32,
   "metadata": {},
   "outputs": [
    {
     "data": {
      "text/html": [
       "<div>\n",
       "<style scoped>\n",
       "    .dataframe tbody tr th:only-of-type {\n",
       "        vertical-align: middle;\n",
       "    }\n",
       "\n",
       "    .dataframe tbody tr th {\n",
       "        vertical-align: top;\n",
       "    }\n",
       "\n",
       "    .dataframe thead th {\n",
       "        text-align: right;\n",
       "    }\n",
       "</style>\n",
       "<table border=\"1\" class=\"dataframe\">\n",
       "  <thead>\n",
       "    <tr style=\"text-align: right;\">\n",
       "      <th></th>\n",
       "      <th>pred_1</th>\n",
       "      <th>pred_2</th>\n",
       "      <th>pred_3</th>\n",
       "      <th>pred_4</th>\n",
       "      <th>pred_5</th>\n",
       "      <th>pred_6</th>\n",
       "      <th>pred_7</th>\n",
       "      <th>pred_8</th>\n",
       "      <th>pred_9</th>\n",
       "      <th>pred_10</th>\n",
       "      <th>...</th>\n",
       "      <th>pred_22</th>\n",
       "      <th>pred_23</th>\n",
       "      <th>pred_24</th>\n",
       "      <th>pred_25</th>\n",
       "      <th>pred_26</th>\n",
       "      <th>pred_27</th>\n",
       "      <th>pred_28</th>\n",
       "      <th>pred_29</th>\n",
       "      <th>pred_30</th>\n",
       "      <th>Date</th>\n",
       "    </tr>\n",
       "  </thead>\n",
       "  <tbody>\n",
       "    <tr>\n",
       "      <th>0</th>\n",
       "      <td>3.03043563999047</td>\n",
       "      <td>3.00715856444222</td>\n",
       "      <td>2.98439197391323</td>\n",
       "      <td>2.9629199058112</td>\n",
       "      <td>2.9426887976662</td>\n",
       "      <td>2.92371323322738</td>\n",
       "      <td>2.905964784473</td>\n",
       "      <td>2.88940080005756</td>\n",
       "      <td>2.87396856412812</td>\n",
       "      <td>2.85961012374946</td>\n",
       "      <td>...</td>\n",
       "      <td>2.75031190473258</td>\n",
       "      <td>2.74497356028108</td>\n",
       "      <td>2.74003347577134</td>\n",
       "      <td>2.7354619884417</td>\n",
       "      <td>2.73123154178438</td>\n",
       "      <td>2.72731655777728</td>\n",
       "      <td>2.72369331229174</td>\n",
       "      <td>2.72033981476491</td>\n",
       "      <td>2.71723569285771</td>\n",
       "      <td>2018-10-15</td>\n",
       "    </tr>\n",
       "    <tr>\n",
       "      <th>1</th>\n",
       "      <td>2.8663129456427</td>\n",
       "      <td>2.83981686798254</td>\n",
       "      <td>2.82303776824044</td>\n",
       "      <td>2.80759137064101</td>\n",
       "      <td>2.79424051422974</td>\n",
       "      <td>2.78237553934964</td>\n",
       "      <td>2.7718141793335</td>\n",
       "      <td>2.76237476872266</td>\n",
       "      <td>2.75392273013819</td>\n",
       "      <td>2.74634454384435</td>\n",
       "      <td>...</td>\n",
       "      <td>2.69768053706755</td>\n",
       "      <td>2.69574299434911</td>\n",
       "      <td>2.69399100598723</td>\n",
       "      <td>2.69240555954018</td>\n",
       "      <td>2.69096963836239</td>\n",
       "      <td>2.68966801200327</td>\n",
       "      <td>2.68848704832555</td>\n",
       "      <td>2.6874145451095</td>\n",
       "      <td>2.6864395791579</td>\n",
       "      <td>2018-10-16</td>\n",
       "    </tr>\n",
       "    <tr>\n",
       "      <th>2</th>\n",
       "      <td>2.8352010239589</td>\n",
       "      <td>2.81939350266054</td>\n",
       "      <td>2.80531528860662</td>\n",
       "      <td>2.79287238605521</td>\n",
       "      <td>2.78172933454736</td>\n",
       "      <td>2.77171047965082</td>\n",
       "      <td>2.76267727368283</td>\n",
       "      <td>2.75452005230427</td>\n",
       "      <td>2.74714668052899</td>\n",
       "      <td>2.74047767654268</td>\n",
       "      <td>...</td>\n",
       "      <td>2.69598130940246</td>\n",
       "      <td>2.6941301548593</td>\n",
       "      <td>2.69244968711978</td>\n",
       "      <td>2.6909236067825</td>\n",
       "      <td>2.68953718477335</td>\n",
       "      <td>2.68827711213998</td>\n",
       "      <td>2.68713136395578</td>\n",
       "      <td>2.68608907602381</td>\n",
       "      <td>2.68514043320284</td>\n",
       "      <td>2018-10-17</td>\n",
       "    </tr>\n",
       "    <tr>\n",
       "      <th>3</th>\n",
       "      <td>2.97271550666377</td>\n",
       "      <td>2.94879280219389</td>\n",
       "      <td>2.92679379279485</td>\n",
       "      <td>2.90656424009111</td>\n",
       "      <td>2.88796198952113</td>\n",
       "      <td>2.87085621846336</td>\n",
       "      <td>2.85512658523703</td>\n",
       "      <td>2.84066240809789</td>\n",
       "      <td>2.82736189782836</td>\n",
       "      <td>2.81513144718079</td>\n",
       "      <td>...</td>\n",
       "      <td>2.72643575345379</td>\n",
       "      <td>2.72232527283707</td>\n",
       "      <td>2.71854550276911</td>\n",
       "      <td>2.71506983570429</td>\n",
       "      <td>2.71187380478082</td>\n",
       "      <td>2.70893491160416</td>\n",
       "      <td>2.7062324678831</td>\n",
       "      <td>2.70374744980466</td>\n",
       "      <td>2.70146236412349</td>\n",
       "      <td>2018-10-18</td>\n",
       "    </tr>\n",
       "    <tr>\n",
       "      <th>4</th>\n",
       "      <td>2.97104602763898</td>\n",
       "      <td>2.95094037521165</td>\n",
       "      <td>2.93099185691434</td>\n",
       "      <td>2.91190287125093</td>\n",
       "      <td>2.89390423997124</td>\n",
       "      <td>2.87708826133212</td>\n",
       "      <td>2.86146691093787</td>\n",
       "      <td>2.84701215954893</td>\n",
       "      <td>2.83367420724715</td>\n",
       "      <td>2.82139203457978</td>\n",
       "      <td>...</td>\n",
       "      <td>2.73348755715938</td>\n",
       "      <td>2.72952585730517</td>\n",
       "      <td>2.72589493597482</td>\n",
       "      <td>2.72256608436841</td>\n",
       "      <td>2.71951302621303</td>\n",
       "      <td>2.71671173347364</td>\n",
       "      <td>2.71414025082494</td>\n",
       "      <td>2.71177852983369</td>\n",
       "      <td>2.70960827331954</td>\n",
       "      <td>2018-10-19</td>\n",
       "    </tr>\n",
       "    <tr>\n",
       "      <th>...</th>\n",
       "      <td>...</td>\n",
       "      <td>...</td>\n",
       "      <td>...</td>\n",
       "      <td>...</td>\n",
       "      <td>...</td>\n",
       "      <td>...</td>\n",
       "      <td>...</td>\n",
       "      <td>...</td>\n",
       "      <td>...</td>\n",
       "      <td>...</td>\n",
       "      <td>...</td>\n",
       "      <td>...</td>\n",
       "      <td>...</td>\n",
       "      <td>...</td>\n",
       "      <td>...</td>\n",
       "      <td>...</td>\n",
       "      <td>...</td>\n",
       "      <td>...</td>\n",
       "      <td>...</td>\n",
       "      <td>...</td>\n",
       "      <td>...</td>\n",
       "    </tr>\n",
       "    <tr>\n",
       "      <th>73</th>\n",
       "      <td>2.80788953577473</td>\n",
       "      <td>2.80817230009421</td>\n",
       "      <td>2.80844162062582</td>\n",
       "      <td>2.80869785391185</td>\n",
       "      <td>2.80894152103866</td>\n",
       "      <td>2.80917318095702</td>\n",
       "      <td>2.80939339296411</td>\n",
       "      <td>2.80960270287245</td>\n",
       "      <td>2.80980163740053</td>\n",
       "      <td>2.80999070193192</td>\n",
       "      <td>...</td>\n",
       "      <td>2.81164483501305</td>\n",
       "      <td>2.81174224272477</td>\n",
       "      <td>2.81183480073591</td>\n",
       "      <td>2.81192275013488</td>\n",
       "      <td>2.81200632006776</td>\n",
       "      <td>2.81208572832279</td>\n",
       "      <td>2.81216118188763</td>\n",
       "      <td>2.81223287748041</td>\n",
       "      <td>2.8123010020554</td>\n",
       "      <td>2019-01-31</td>\n",
       "    </tr>\n",
       "    <tr>\n",
       "      <th>74</th>\n",
       "      <td>2.78287153951863</td>\n",
       "      <td>2.78436544481683</td>\n",
       "      <td>2.78578549295422</td>\n",
       "      <td>2.78713512947743</td>\n",
       "      <td>2.78841775298262</td>\n",
       "      <td>2.78963664128253</td>\n",
       "      <td>2.79079493202767</td>\n",
       "      <td>2.79189561906362</td>\n",
       "      <td>2.79294155447089</td>\n",
       "      <td>2.79393545289773</td>\n",
       "      <td>...</td>\n",
       "      <td>2.80262772554505</td>\n",
       "      <td>2.80313950552046</td>\n",
       "      <td>2.80362580591935</td>\n",
       "      <td>2.80408789488195</td>\n",
       "      <td>2.80452697747919</td>\n",
       "      <td>2.80494419884162</td>\n",
       "      <td>2.80534064713469</td>\n",
       "      <td>2.80571735638743</td>\n",
       "      <td>2.80607530918152</td>\n",
       "      <td>2019-02-01</td>\n",
       "    </tr>\n",
       "    <tr>\n",
       "      <th>75</th>\n",
       "      <td>2.75838805155737</td>\n",
       "      <td>2.76106774789901</td>\n",
       "      <td>2.76361503413066</td>\n",
       "      <td>2.76603626637878</td>\n",
       "      <td>2.76833759641622</td>\n",
       "      <td>2.7705249147553</td>\n",
       "      <td>2.77260384108558</td>\n",
       "      <td>2.77457972812433</td>\n",
       "      <td>2.77645767014961</td>\n",
       "      <td>2.77824251326473</td>\n",
       "      <td>...</td>\n",
       "      <td>2.7938699599594</td>\n",
       "      <td>2.79479136343531</td>\n",
       "      <td>2.79566706971315</td>\n",
       "      <td>2.7964993447419</td>\n",
       "      <td>2.79729034216223</td>\n",
       "      <td>2.7980421088646</td>\n",
       "      <td>2.79875659027382</td>\n",
       "      <td>2.79943563537327</td>\n",
       "      <td>2.80008100148121</td>\n",
       "      <td>2019-02-04</td>\n",
       "    </tr>\n",
       "    <tr>\n",
       "      <th>76</th>\n",
       "      <td>2.74864858722358</td>\n",
       "      <td>2.75178879901682</td>\n",
       "      <td>2.75477423509355</td>\n",
       "      <td>2.75761239313961</td>\n",
       "      <td>2.7603104740495</td>\n",
       "      <td>2.7628753541887</td>\n",
       "      <td>2.76531358616711</td>\n",
       "      <td>2.76763140799786</td>\n",
       "      <td>2.76983475514171</td>\n",
       "      <td>2.77192927349385</td>\n",
       "      <td>...</td>\n",
       "      <td>2.79028918605451</td>\n",
       "      <td>2.79137320437336</td>\n",
       "      <td>2.79240366320851</td>\n",
       "      <td>2.7933832084466</td>\n",
       "      <td>2.794314355314</td>\n",
       "      <td>2.79519949482146</td>\n",
       "      <td>2.79604089989216</td>\n",
       "      <td>2.79684073118862</td>\n",
       "      <td>2.79760104265304</td>\n",
       "      <td>2019-02-05</td>\n",
       "    </tr>\n",
       "    <tr>\n",
       "      <th>77</th>\n",
       "      <td>2.73683183970231</td>\n",
       "      <td>2.74050117004241</td>\n",
       "      <td>2.74403045278439</td>\n",
       "      <td>2.74740909605705</td>\n",
       "      <td>2.75063575632423</td>\n",
       "      <td>2.75371279960866</td>\n",
       "      <td>2.75664433767857</td>\n",
       "      <td>2.75943535008467</td>\n",
       "      <td>2.76209123554093</td>\n",
       "      <td>2.76461756251552</td>\n",
       "      <td>...</td>\n",
       "      <td>2.78673163866079</td>\n",
       "      <td>2.78803032707717</td>\n",
       "      <td>2.78926351892522</td>\n",
       "      <td>2.79043446679998</td>\n",
       "      <td>2.79154626807771</td>\n",
       "      <td>2.79260187131616</td>\n",
       "      <td>2.79360408258104</td>\n",
       "      <td>2.79455557165391</td>\n",
       "      <td>2.79545887808976</td>\n",
       "      <td>2019-02-06</td>\n",
       "    </tr>\n",
       "  </tbody>\n",
       "</table>\n",
       "<p>78 rows × 31 columns</p>\n",
       "</div>"
      ],
      "text/plain": [
       "              pred_1            pred_2            pred_3            pred_4  \\\n",
       "0   3.03043563999047  3.00715856444222  2.98439197391323   2.9629199058112   \n",
       "1    2.8663129456427  2.83981686798254  2.82303776824044  2.80759137064101   \n",
       "2    2.8352010239589  2.81939350266054  2.80531528860662  2.79287238605521   \n",
       "3   2.97271550666377  2.94879280219389  2.92679379279485  2.90656424009111   \n",
       "4   2.97104602763898  2.95094037521165  2.93099185691434  2.91190287125093   \n",
       "..               ...               ...               ...               ...   \n",
       "73  2.80788953577473  2.80817230009421  2.80844162062582  2.80869785391185   \n",
       "74  2.78287153951863  2.78436544481683  2.78578549295422  2.78713512947743   \n",
       "75  2.75838805155737  2.76106774789901  2.76361503413066  2.76603626637878   \n",
       "76  2.74864858722358  2.75178879901682  2.75477423509355  2.75761239313961   \n",
       "77  2.73683183970231  2.74050117004241  2.74403045278439  2.74740909605705   \n",
       "\n",
       "              pred_5            pred_6            pred_7            pred_8  \\\n",
       "0    2.9426887976662  2.92371323322738    2.905964784473  2.88940080005756   \n",
       "1   2.79424051422974  2.78237553934964   2.7718141793335  2.76237476872266   \n",
       "2   2.78172933454736  2.77171047965082  2.76267727368283  2.75452005230427   \n",
       "3   2.88796198952113  2.87085621846336  2.85512658523703  2.84066240809789   \n",
       "4   2.89390423997124  2.87708826133212  2.86146691093787  2.84701215954893   \n",
       "..               ...               ...               ...               ...   \n",
       "73  2.80894152103866  2.80917318095702  2.80939339296411  2.80960270287245   \n",
       "74  2.78841775298262  2.78963664128253  2.79079493202767  2.79189561906362   \n",
       "75  2.76833759641622   2.7705249147553  2.77260384108558  2.77457972812433   \n",
       "76   2.7603104740495   2.7628753541887  2.76531358616711  2.76763140799786   \n",
       "77  2.75063575632423  2.75371279960866  2.75664433767857  2.75943535008467   \n",
       "\n",
       "              pred_9           pred_10  ...           pred_22  \\\n",
       "0   2.87396856412812  2.85961012374946  ...  2.75031190473258   \n",
       "1   2.75392273013819  2.74634454384435  ...  2.69768053706755   \n",
       "2   2.74714668052899  2.74047767654268  ...  2.69598130940246   \n",
       "3   2.82736189782836  2.81513144718079  ...  2.72643575345379   \n",
       "4   2.83367420724715  2.82139203457978  ...  2.73348755715938   \n",
       "..               ...               ...  ...               ...   \n",
       "73  2.80980163740053  2.80999070193192  ...  2.81164483501305   \n",
       "74  2.79294155447089  2.79393545289773  ...  2.80262772554505   \n",
       "75  2.77645767014961  2.77824251326473  ...   2.7938699599594   \n",
       "76  2.76983475514171  2.77192927349385  ...  2.79028918605451   \n",
       "77  2.76209123554093  2.76461756251552  ...  2.78673163866079   \n",
       "\n",
       "             pred_23           pred_24           pred_25           pred_26  \\\n",
       "0   2.74497356028108  2.74003347577134   2.7354619884417  2.73123154178438   \n",
       "1   2.69574299434911  2.69399100598723  2.69240555954018  2.69096963836239   \n",
       "2    2.6941301548593  2.69244968711978   2.6909236067825  2.68953718477335   \n",
       "3   2.72232527283707  2.71854550276911  2.71506983570429  2.71187380478082   \n",
       "4   2.72952585730517  2.72589493597482  2.72256608436841  2.71951302621303   \n",
       "..               ...               ...               ...               ...   \n",
       "73  2.81174224272477  2.81183480073591  2.81192275013488  2.81200632006776   \n",
       "74  2.80313950552046  2.80362580591935  2.80408789488195  2.80452697747919   \n",
       "75  2.79479136343531  2.79566706971315   2.7964993447419  2.79729034216223   \n",
       "76  2.79137320437336  2.79240366320851   2.7933832084466    2.794314355314   \n",
       "77  2.78803032707717  2.78926351892522  2.79043446679998  2.79154626807771   \n",
       "\n",
       "             pred_27           pred_28           pred_29           pred_30  \\\n",
       "0   2.72731655777728  2.72369331229174  2.72033981476491  2.71723569285771   \n",
       "1   2.68966801200327  2.68848704832555   2.6874145451095   2.6864395791579   \n",
       "2   2.68827711213998  2.68713136395578  2.68608907602381  2.68514043320284   \n",
       "3   2.70893491160416   2.7062324678831  2.70374744980466  2.70146236412349   \n",
       "4   2.71671173347364  2.71414025082494  2.71177852983369  2.70960827331954   \n",
       "..               ...               ...               ...               ...   \n",
       "73  2.81208572832279  2.81216118188763  2.81223287748041   2.8123010020554   \n",
       "74  2.80494419884162  2.80534064713469  2.80571735638743  2.80607530918152   \n",
       "75   2.7980421088646  2.79875659027382  2.79943563537327  2.80008100148121   \n",
       "76  2.79519949482146  2.79604089989216  2.79684073118862  2.79760104265304   \n",
       "77  2.79260187131616  2.79360408258104  2.79455557165391  2.79545887808976   \n",
       "\n",
       "          Date  \n",
       "0   2018-10-15  \n",
       "1   2018-10-16  \n",
       "2   2018-10-17  \n",
       "3   2018-10-18  \n",
       "4   2018-10-19  \n",
       "..         ...  \n",
       "73  2019-01-31  \n",
       "74  2019-02-01  \n",
       "75  2019-02-04  \n",
       "76  2019-02-05  \n",
       "77  2019-02-06  \n",
       "\n",
       "[78 rows x 31 columns]"
      ]
     },
     "execution_count": 32,
     "metadata": {},
     "output_type": "execute_result"
    }
   ],
   "source": [
    "df_arfima"
   ]
  },
  {
   "cell_type": "code",
   "execution_count": 33,
   "metadata": {},
   "outputs": [
    {
     "name": "stderr",
     "output_type": "stream",
     "text": [
      "c:\\Users\\gaoxc\\anaconda3\\envs\\papers\\lib\\site-packages\\pandas\\core\\arraylike.py:402: RuntimeWarning: divide by zero encountered in log\n",
      "  result = getattr(ufunc, method)(*inputs, **kwargs)\n"
     ]
    }
   ],
   "source": [
    "import numpy as np \n",
    "def prepare_data(path):\n",
    "    df = pd.read_csv(path)\n",
    "    df.columns = ['Date_vix']\n",
    "    df['Date'] = df['Date_vix'].apply(lambda x: x[0:8])\n",
    "    df['vix'] = df['Date_vix'].apply(lambda x: x[9:])\n",
    "    df['vix'] = df['vix'].apply(lambda x: str.replace(x, ' ', ''))\n",
    "    df['vix'] = df['vix'].apply(lambda x: 0.0 if x == '.' else x)\n",
    "    df['vix'] = df['vix'].astype(float)\n",
    "    df['log_vix'] = np.log(df['vix'])\n",
    "    df['Date'] = pd.to_datetime(df['Date'])\n",
    "    df = df.drop_duplicates()\n",
    "    return df\n",
    "df = prepare_data('./data/VIXdata.txt')"
   ]
  },
  {
   "cell_type": "code",
   "execution_count": 34,
   "metadata": {},
   "outputs": [
    {
     "data": {
      "text/html": [
       "<div>\n",
       "<style scoped>\n",
       "    .dataframe tbody tr th:only-of-type {\n",
       "        vertical-align: middle;\n",
       "    }\n",
       "\n",
       "    .dataframe tbody tr th {\n",
       "        vertical-align: top;\n",
       "    }\n",
       "\n",
       "    .dataframe thead th {\n",
       "        text-align: right;\n",
       "    }\n",
       "</style>\n",
       "<table border=\"1\" class=\"dataframe\">\n",
       "  <thead>\n",
       "    <tr style=\"text-align: right;\">\n",
       "      <th></th>\n",
       "      <th>Date_vix</th>\n",
       "      <th>Date</th>\n",
       "      <th>vix</th>\n",
       "      <th>log_vix</th>\n",
       "    </tr>\n",
       "  </thead>\n",
       "  <tbody>\n",
       "    <tr>\n",
       "      <th>0</th>\n",
       "      <td>20010102           29.99</td>\n",
       "      <td>2001-01-02</td>\n",
       "      <td>29.99</td>\n",
       "      <td>3.400864</td>\n",
       "    </tr>\n",
       "    <tr>\n",
       "      <th>2</th>\n",
       "      <td>20010103           26.60</td>\n",
       "      <td>2001-01-03</td>\n",
       "      <td>26.60</td>\n",
       "      <td>3.280911</td>\n",
       "    </tr>\n",
       "    <tr>\n",
       "      <th>4</th>\n",
       "      <td>20010104           26.97</td>\n",
       "      <td>2001-01-04</td>\n",
       "      <td>26.97</td>\n",
       "      <td>3.294725</td>\n",
       "    </tr>\n",
       "    <tr>\n",
       "      <th>6</th>\n",
       "      <td>20010105           28.67</td>\n",
       "      <td>2001-01-05</td>\n",
       "      <td>28.67</td>\n",
       "      <td>3.355851</td>\n",
       "    </tr>\n",
       "    <tr>\n",
       "      <th>8</th>\n",
       "      <td>20010108           29.84</td>\n",
       "      <td>2001-01-08</td>\n",
       "      <td>29.84</td>\n",
       "      <td>3.395850</td>\n",
       "    </tr>\n",
       "    <tr>\n",
       "      <th>...</th>\n",
       "      <td>...</td>\n",
       "      <td>...</td>\n",
       "      <td>...</td>\n",
       "      <td>...</td>\n",
       "    </tr>\n",
       "    <tr>\n",
       "      <th>6185</th>\n",
       "      <td>20220725           23.36</td>\n",
       "      <td>2022-07-25</td>\n",
       "      <td>23.36</td>\n",
       "      <td>3.151025</td>\n",
       "    </tr>\n",
       "    <tr>\n",
       "      <th>6186</th>\n",
       "      <td>20220726           24.69</td>\n",
       "      <td>2022-07-26</td>\n",
       "      <td>24.69</td>\n",
       "      <td>3.206398</td>\n",
       "    </tr>\n",
       "    <tr>\n",
       "      <th>6187</th>\n",
       "      <td>20220727           23.24</td>\n",
       "      <td>2022-07-27</td>\n",
       "      <td>23.24</td>\n",
       "      <td>3.145875</td>\n",
       "    </tr>\n",
       "    <tr>\n",
       "      <th>6188</th>\n",
       "      <td>20220728           22.33</td>\n",
       "      <td>2022-07-28</td>\n",
       "      <td>22.33</td>\n",
       "      <td>3.105931</td>\n",
       "    </tr>\n",
       "    <tr>\n",
       "      <th>6189</th>\n",
       "      <td>20220729           21.33</td>\n",
       "      <td>2022-07-29</td>\n",
       "      <td>21.33</td>\n",
       "      <td>3.060115</td>\n",
       "    </tr>\n",
       "  </tbody>\n",
       "</table>\n",
       "<p>5436 rows × 4 columns</p>\n",
       "</div>"
      ],
      "text/plain": [
       "                      Date_vix       Date    vix   log_vix\n",
       "0     20010102           29.99 2001-01-02  29.99  3.400864\n",
       "2     20010103           26.60 2001-01-03  26.60  3.280911\n",
       "4     20010104           26.97 2001-01-04  26.97  3.294725\n",
       "6     20010105           28.67 2001-01-05  28.67  3.355851\n",
       "8     20010108           29.84 2001-01-08  29.84  3.395850\n",
       "...                        ...        ...    ...       ...\n",
       "6185  20220725           23.36 2022-07-25  23.36  3.151025\n",
       "6186  20220726           24.69 2022-07-26  24.69  3.206398\n",
       "6187  20220727           23.24 2022-07-27  23.24  3.145875\n",
       "6188  20220728           22.33 2022-07-28  22.33  3.105931\n",
       "6189  20220729           21.33 2022-07-29  21.33  3.060115\n",
       "\n",
       "[5436 rows x 4 columns]"
      ]
     },
     "execution_count": 34,
     "metadata": {},
     "output_type": "execute_result"
    }
   ],
   "source": [
    "df "
   ]
  },
  {
   "cell_type": "code",
   "execution_count": 35,
   "metadata": {},
   "outputs": [
    {
     "name": "stdout",
     "output_type": "stream",
     "text": [
      "<class 'pandas.core.frame.DataFrame'>\n",
      "Int64Index: 5436 entries, 0 to 6189\n",
      "Data columns (total 4 columns):\n",
      " #   Column    Non-Null Count  Dtype  \n",
      "---  ------    --------------  -----  \n",
      " 0   Date_vix  5436 non-null   object \n",
      " 1   Date      5436 non-null   object \n",
      " 2   vix       5436 non-null   float64\n",
      " 3   log_vix   5436 non-null   float64\n",
      "dtypes: float64(2), object(2)\n",
      "memory usage: 212.3+ KB\n"
     ]
    }
   ],
   "source": [
    "df['Date'] = df['Date'].astype(str)\n",
    "df.info()"
   ]
  },
  {
   "cell_type": "code",
   "execution_count": null,
   "metadata": {},
   "outputs": [],
   "source": []
  },
  {
   "cell_type": "code",
   "execution_count": 36,
   "metadata": {},
   "outputs": [],
   "source": [
    "df_arfima_true = pd.merge(df_arfima[['pred_1','pred_2','Date']],df[['Date','log_vix']],how='left',on=['Date'])\n"
   ]
  },
  {
   "cell_type": "code",
   "execution_count": 37,
   "metadata": {},
   "outputs": [
    {
     "data": {
      "text/html": [
       "<div>\n",
       "<style scoped>\n",
       "    .dataframe tbody tr th:only-of-type {\n",
       "        vertical-align: middle;\n",
       "    }\n",
       "\n",
       "    .dataframe tbody tr th {\n",
       "        vertical-align: top;\n",
       "    }\n",
       "\n",
       "    .dataframe thead th {\n",
       "        text-align: right;\n",
       "    }\n",
       "</style>\n",
       "<table border=\"1\" class=\"dataframe\">\n",
       "  <thead>\n",
       "    <tr style=\"text-align: right;\">\n",
       "      <th></th>\n",
       "      <th>pred_1</th>\n",
       "      <th>pred_2</th>\n",
       "      <th>Date</th>\n",
       "      <th>log_vix</th>\n",
       "      <th>log_vix_true</th>\n",
       "    </tr>\n",
       "  </thead>\n",
       "  <tbody>\n",
       "    <tr>\n",
       "      <th>0</th>\n",
       "      <td>3.03043563999047</td>\n",
       "      <td>3.00715856444222</td>\n",
       "      <td>2018-10-15</td>\n",
       "      <td>3.058707</td>\n",
       "      <td>2.869035</td>\n",
       "    </tr>\n",
       "    <tr>\n",
       "      <th>1</th>\n",
       "      <td>2.8663129456427</td>\n",
       "      <td>2.83981686798254</td>\n",
       "      <td>2018-10-16</td>\n",
       "      <td>2.869035</td>\n",
       "      <td>2.856470</td>\n",
       "    </tr>\n",
       "    <tr>\n",
       "      <th>2</th>\n",
       "      <td>2.8352010239589</td>\n",
       "      <td>2.81939350266054</td>\n",
       "      <td>2018-10-17</td>\n",
       "      <td>2.856470</td>\n",
       "      <td>2.998728</td>\n",
       "    </tr>\n",
       "    <tr>\n",
       "      <th>3</th>\n",
       "      <td>2.97271550666377</td>\n",
       "      <td>2.94879280219389</td>\n",
       "      <td>2018-10-18</td>\n",
       "      <td>2.998728</td>\n",
       "      <td>2.990217</td>\n",
       "    </tr>\n",
       "    <tr>\n",
       "      <th>4</th>\n",
       "      <td>2.97104602763898</td>\n",
       "      <td>2.95094037521165</td>\n",
       "      <td>2018-10-19</td>\n",
       "      <td>2.990217</td>\n",
       "      <td>2.977568</td>\n",
       "    </tr>\n",
       "    <tr>\n",
       "      <th>...</th>\n",
       "      <td>...</td>\n",
       "      <td>...</td>\n",
       "      <td>...</td>\n",
       "      <td>...</td>\n",
       "      <td>...</td>\n",
       "    </tr>\n",
       "    <tr>\n",
       "      <th>72</th>\n",
       "      <td>2.8683901090139</td>\n",
       "      <td>2.8656255767986</td>\n",
       "      <td>2019-01-30</td>\n",
       "      <td>2.871302</td>\n",
       "      <td>2.807594</td>\n",
       "    </tr>\n",
       "    <tr>\n",
       "      <th>73</th>\n",
       "      <td>2.80788953577473</td>\n",
       "      <td>2.80817230009421</td>\n",
       "      <td>2019-01-31</td>\n",
       "      <td>2.807594</td>\n",
       "      <td>2.781301</td>\n",
       "    </tr>\n",
       "    <tr>\n",
       "      <th>74</th>\n",
       "      <td>2.78287153951863</td>\n",
       "      <td>2.78436544481683</td>\n",
       "      <td>2019-02-01</td>\n",
       "      <td>2.781301</td>\n",
       "      <td>2.755570</td>\n",
       "    </tr>\n",
       "    <tr>\n",
       "      <th>75</th>\n",
       "      <td>2.75838805155737</td>\n",
       "      <td>2.76106774789901</td>\n",
       "      <td>2019-02-04</td>\n",
       "      <td>2.755570</td>\n",
       "      <td>2.745346</td>\n",
       "    </tr>\n",
       "    <tr>\n",
       "      <th>76</th>\n",
       "      <td>2.74864858722358</td>\n",
       "      <td>2.75178879901682</td>\n",
       "      <td>2019-02-05</td>\n",
       "      <td>2.745346</td>\n",
       "      <td>2.733068</td>\n",
       "    </tr>\n",
       "  </tbody>\n",
       "</table>\n",
       "<p>77 rows × 5 columns</p>\n",
       "</div>"
      ],
      "text/plain": [
       "              pred_1            pred_2        Date   log_vix  log_vix_true\n",
       "0   3.03043563999047  3.00715856444222  2018-10-15  3.058707      2.869035\n",
       "1    2.8663129456427  2.83981686798254  2018-10-16  2.869035      2.856470\n",
       "2    2.8352010239589  2.81939350266054  2018-10-17  2.856470      2.998728\n",
       "3   2.97271550666377  2.94879280219389  2018-10-18  2.998728      2.990217\n",
       "4   2.97104602763898  2.95094037521165  2018-10-19  2.990217      2.977568\n",
       "..               ...               ...         ...       ...           ...\n",
       "72   2.8683901090139   2.8656255767986  2019-01-30  2.871302      2.807594\n",
       "73  2.80788953577473  2.80817230009421  2019-01-31  2.807594      2.781301\n",
       "74  2.78287153951863  2.78436544481683  2019-02-01  2.781301      2.755570\n",
       "75  2.75838805155737  2.76106774789901  2019-02-04  2.755570      2.745346\n",
       "76  2.74864858722358  2.75178879901682  2019-02-05  2.745346      2.733068\n",
       "\n",
       "[77 rows x 5 columns]"
      ]
     },
     "execution_count": 37,
     "metadata": {},
     "output_type": "execute_result"
    }
   ],
   "source": [
    "df_arfima_true['log_vix_true'] = df_arfima_true['log_vix'].shift(-1)\n",
    "df_arfima_true.dropna(inplace=True)\n",
    "df_arfima_true\n"
   ]
  },
  {
   "cell_type": "code",
   "execution_count": null,
   "metadata": {},
   "outputs": [],
   "source": []
  },
  {
   "cell_type": "code",
   "execution_count": 38,
   "metadata": {},
   "outputs": [],
   "source": [
    "df_arfima_true = df_arfima_true[(df_arfima_true['Date']>='2018-10-15')&(df_arfima_true['Date']<='2019-01-09')]\n",
    "\n",
    "# 2020-01-14~~~2020-04-07"
   ]
  },
  {
   "cell_type": "code",
   "execution_count": null,
   "metadata": {},
   "outputs": [],
   "source": []
  },
  {
   "cell_type": "code",
   "execution_count": 39,
   "metadata": {},
   "outputs": [],
   "source": [
    "def hmse(y_true,y_pred):\n",
    "    ratio = y_pred/y_true\n",
    "    return np.mean(np.power((ratio[abs(ratio)<200]-1),2))\n",
    "\n",
    "def hmae(y_true,y_pred):\n",
    "    ratio = y_pred/y_true\n",
    "    return np.mean(abs(ratio[abs(ratio)<200]-1))\n",
    "\n",
    "def mse(y_true,y_pred):\n",
    "    return np.mean(np.power(np.abs(y_true-y_pred),2))\n",
    "\n",
    "def mae(y_true,y_pred):\n",
    "    return np.mean(np.abs(y_true-y_pred))"
   ]
  },
  {
   "cell_type": "code",
   "execution_count": 40,
   "metadata": {},
   "outputs": [
    {
     "name": "stderr",
     "output_type": "stream",
     "text": [
      "C:\\Users\\gaoxc\\AppData\\Local\\Temp\\ipykernel_16716\\881835220.py:1: SettingWithCopyWarning: \n",
      "A value is trying to be set on a copy of a slice from a DataFrame.\n",
      "Try using .loc[row_indexer,col_indexer] = value instead\n",
      "\n",
      "See the caveats in the documentation: https://pandas.pydata.org/pandas-docs/stable/user_guide/indexing.html#returning-a-view-versus-a-copy\n",
      "  df_arfima_true['pred_1'] = df_arfima_true['pred_1'].astype(float)\n"
     ]
    },
    {
     "data": {
      "text/plain": [
       "0.0008836511777113183"
      ]
     },
     "execution_count": 40,
     "metadata": {},
     "output_type": "execute_result"
    }
   ],
   "source": [
    "df_arfima_true['pred_1'] = df_arfima_true['pred_1'].astype(float)\n",
    "hmse(df_arfima_true['log_vix_true'],df_arfima_true['pred_1'])"
   ]
  },
  {
   "cell_type": "code",
   "execution_count": 41,
   "metadata": {},
   "outputs": [
    {
     "data": {
      "text/plain": [
       "0.022316214337634463"
      ]
     },
     "execution_count": 41,
     "metadata": {},
     "output_type": "execute_result"
    }
   ],
   "source": [
    "hmae(df_arfima_true['log_vix_true'],df_arfima_true['pred_1'])"
   ]
  },
  {
   "cell_type": "code",
   "execution_count": 42,
   "metadata": {},
   "outputs": [
    {
     "data": {
      "text/plain": [
       "0.06899118009097709"
      ]
     },
     "execution_count": 42,
     "metadata": {},
     "output_type": "execute_result"
    }
   ],
   "source": [
    "mae(df_arfima_true['log_vix_true'],df_arfima_true['pred_1'])"
   ]
  },
  {
   "cell_type": "code",
   "execution_count": 43,
   "metadata": {},
   "outputs": [
    {
     "data": {
      "text/plain": [
       "0.008511877082478912"
      ]
     },
     "execution_count": 43,
     "metadata": {},
     "output_type": "execute_result"
    }
   ],
   "source": [
    "mse(df_arfima_true['log_vix_true'],df_arfima_true['pred_1'])"
   ]
  },
  {
   "cell_type": "code",
   "execution_count": 44,
   "metadata": {},
   "outputs": [
    {
     "data": {
      "text/plain": [
       "0.677650026644905"
      ]
     },
     "execution_count": 44,
     "metadata": {},
     "output_type": "execute_result"
    }
   ],
   "source": [
    "from sklearn.metrics import r2_score\n",
    "r2_score(df_arfima_true['log_vix_true'],df_arfima_true['pred_1'])"
   ]
  },
  {
   "cell_type": "code",
   "execution_count": 45,
   "metadata": {},
   "outputs": [
    {
     "data": {
      "text/plain": [
       "<AxesSubplot: >"
      ]
     },
     "execution_count": 45,
     "metadata": {},
     "output_type": "execute_result"
    },
    {
     "data": {
      "image/png": "[encoded data removed]",
      "text/plain": [
       "<Figure size 640x480 with 1 Axes>"
      ]
     },
     "metadata": {},
     "output_type": "display_data"
    }
   ],
   "source": [
    "df_arfima_true[['log_vix_true','pred_1']].plot()"
   ]
  },
  {
   "cell_type": "code",
   "execution_count": 46,
   "metadata": {},
   "outputs": [],
   "source": [
    "df_arfima_true.to_csv('./data/df_arfima_true18_1015-190109_150.txt')"
   ]
  },
  {
   "cell_type": "code",
   "execution_count": 66,
   "metadata": {},
   "outputs": [
    {
     "data": {
      "text/plain": [
       "10"
      ]
     },
     "execution_count": 66,
     "metadata": {},
     "output_type": "execute_result"
    }
   ],
   "source": [
    "5<<1"
   ]
  },
  {
   "cell_type": "code",
   "execution_count": 67,
   "metadata": {},
   "outputs": [
    {
     "data": {
      "text/plain": [
       "'0b101'"
      ]
     },
     "execution_count": 67,
     "metadata": {},
     "output_type": "execute_result"
    }
   ],
   "source": [
    "bin(5)"
   ]
  },
  {
   "cell_type": "code",
   "execution_count": 70,
   "metadata": {},
   "outputs": [
    {
     "data": {
      "text/plain": [
       "0"
      ]
     },
     "execution_count": 70,
     "metadata": {},
     "output_type": "execute_result"
    }
   ],
   "source": [
    "(10&5)"
   ]
  },
  {
   "cell_type": "code",
   "execution_count": 71,
   "metadata": {},
   "outputs": [
    {
     "data": {
      "text/plain": [
       "'0b1010'"
      ]
     },
     "execution_count": 71,
     "metadata": {},
     "output_type": "execute_result"
    }
   ],
   "source": [
    "bin(10)"
   ]
  },
  {
   "cell_type": "code",
   "execution_count": 72,
   "metadata": {},
   "outputs": [
    {
     "data": {
      "text/plain": [
       "4"
      ]
     },
     "execution_count": 72,
     "metadata": {},
     "output_type": "execute_result"
    }
   ],
   "source": [
    "4&5"
   ]
  },
  {
   "cell_type": "code",
   "execution_count": 73,
   "metadata": {},
   "outputs": [
    {
     "data": {
      "text/plain": [
       "0"
      ]
     },
     "execution_count": 73,
     "metadata": {},
     "output_type": "execute_result"
    }
   ],
   "source": [
    "4&1"
   ]
  },
  {
   "cell_type": "code",
   "execution_count": 106,
   "metadata": {},
   "outputs": [
    {
     "data": {
      "text/plain": [
       "[(3, 6), (2, 5), (1, 4)]"
      ]
     },
     "execution_count": 106,
     "metadata": {},
     "output_type": "execute_result"
    }
   ],
   "source": [
    "matrix = [[1,2,3],[4,5,6]]\n",
    "\n",
    "list(zip(*matrix))[::-1]"
   ]
  },
  {
   "cell_type": "code",
   "execution_count": 117,
   "metadata": {},
   "outputs": [
    {
     "data": {
      "text/plain": [
       "[(4, 1), (5, 2), (6, 3)]"
      ]
     },
     "execution_count": 117,
     "metadata": {},
     "output_type": "execute_result"
    }
   ],
   "source": []
  },
  {
   "cell_type": "code",
   "execution_count": null,
   "metadata": {},
   "outputs": [],
   "source": []
  }
 ],
 "metadata": {
  "kernelspec": {
   "display_name": "papers",
   "language": "python",
   "name": "python3"
  },
  "language_info": {
   "codemirror_mode": {
    "name": "ipython",
    "version": 3
   },
   "file_extension": ".py",
   "mimetype": "text/x-python",
   "name": "python",
   "nbconvert_exporter": "python",
   "pygments_lexer": "ipython3",
   "version": "3.8.15"
  },
  "orig_nbformat": 4,
  "vscode": {
   "interpreter": {
    "hash": "3bf87b4dd4783eb0fed910a2bf70b92bdf6d0b5fca3bdd058956361be91b33f9"
   }
  }
 },
 "nbformat": 4,
 "nbformat_minor": 2
}
